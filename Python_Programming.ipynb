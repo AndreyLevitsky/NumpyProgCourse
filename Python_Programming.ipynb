{
 "cells": [
  {
   "cell_type": "markdown",
   "metadata": {},
   "source": [
    "# Программирование Python\n",
    "\n",
    "## \"Обработка многомерных массивов в библиотеке NumPy с использованием IPython\""
   ]
  },
  {
   "cell_type": "markdown",
   "metadata": {},
   "source": [
    "Выполнил студент Левицкий Андрей Александрович группы ИС-м19-1."
   ]
  },
  {
   "cell_type": "markdown",
   "metadata": {},
   "source": [
    "### Интерпретатор IPython и оболочка Jupyter"
   ]
  },
  {
   "cell_type": "markdown",
   "metadata": {},
   "source": [
    "Интерпретатор **IPython** является полезным интерактивным интерфейсом для языка Python и предоставляет некоторые удобные инструменты для отладки, анализа процесса выполнения программ на языке Python.\n",
    "\n",
    "**Jupyter** - веб-оболочка для интерпретатора IPython, позволяющая объединить код, текст, формулы и диаграммы в единый документ (*блокнот Jupyter*) и распространять их для других пользователей.\n",
    "\n",
    "Пример работы с разметкой среды Jupyter можно посмотреть в этом блокноте и в [блокноте с разнообразными примерами использования символов и тегов разметки](https://github.com/jupyter/notebook/blob/master/docs/source/examples/Notebook/Working%20With%20Markdown%20Cells.ipynb)"
   ]
  },
  {
   "cell_type": "markdown",
   "metadata": {},
   "source": [
    "Для быстрого доступа к документации и другой соответствующей информации в IPython используется знак `?`. Например справку по команде `len` можно поучить так:"
   ]
  },
  {
   "cell_type": "code",
   "execution_count": null,
   "metadata": {},
   "outputs": [],
   "source": [
    "?len"
   ]
  },
  {
   "cell_type": "markdown",
   "metadata": {},
   "source": [
    "Такой подход можно применять к любым функциям и методам в IPython."
   ]
  },
  {
   "cell_type": "code",
   "execution_count": null,
   "metadata": {},
   "outputs": [],
   "source": [
    "L = [1,2,3]\n",
    "L.insert?"
   ]
  },
  {
   "cell_type": "markdown",
   "metadata": {},
   "source": [
    "#### \"Магические\" команды IPython\n",
    "\"Магические\" команды позволяют организовывать выполнение подпрограмм в среде IPython, а также их профилирование, отладку и другие операиции, не связанные непосредственно с языком Python. Например, кманда `%run <скрипт>` запускает в интерактивной оболочке IPython скрипт на Python, а `%timeit`автоматически определяет время выполнения следующего за ней однострочного оператора. Эта команда будет выполнять множественные запуски с целью получения максимально надежных результатов. "
   ]
  },
  {
   "cell_type": "code",
   "execution_count": null,
   "metadata": {},
   "outputs": [],
   "source": [
    "%timeit L = [n ** 2 for n in range(1000)]"
   ]
  },
  {
   "cell_type": "markdown",
   "metadata": {},
   "source": [
    "Справку по магическим функциям можно получить при помощи знака `?`. Например:"
   ]
  },
  {
   "cell_type": "code",
   "execution_count": null,
   "metadata": {},
   "outputs": [],
   "source": [
    "%timeit?"
   ]
  },
  {
   "cell_type": "markdown",
   "metadata": {},
   "source": [
    "Для доступа к общему описанию доступных «магических» функций введите команду:"
   ]
  },
  {
   "cell_type": "code",
   "execution_count": null,
   "metadata": {},
   "outputs": [],
   "source": [
    "%magic"
   ]
  },
  {
   "cell_type": "markdown",
   "metadata": {},
   "source": [
    "Для быстрого получения простого списка всех доступных «магических» функций:"
   ]
  },
  {
   "cell_type": "code",
   "execution_count": null,
   "metadata": {},
   "outputs": [],
   "source": [
    "%lsmagic"
   ]
  },
  {
   "cell_type": "markdown",
   "metadata": {},
   "source": [
    "С помощью «магической» функции %xmode (сокращение от exception mode — режим отображения исключений) мы можем управлять тем, какая информация будет выведена.\n",
    "Функция %xmode принимает на входе один аргумент, режим, для которого есть три значения: Plain (Простой), Context (По контексту) и Verbose (Расширенный)."
   ]
  },
  {
   "cell_type": "markdown",
   "metadata": {},
   "source": [
    "#### Отладка и профилирование."
   ]
  },
  {
   "cell_type": "markdown",
   "metadata": {},
   "source": [
    "Отладчик в оболочке IPython называется ipdb (сокращение от IPython Debugger — «отладчик IPython»)."
   ]
  },
  {
   "cell_type": "markdown",
   "metadata": {},
   "source": [
    "Интерфейс для отладки в IPython — «магическая» команда `%debug`. Если ее вызвать после столкновения с исключением, она автоматически откроет интерактивную командную строку откладки в точке возникновения исключения. Командная строка ipdb позволяет изучать текущее состояние стека, доступные переменные и даже выполнять команды Python.\n",
    "Для подробной информации воспользуйтесь командой help в отладчике или загляните в [онлайн-документацию по ipdb](https://github.com/gotcha/ipdb)"
   ]
  },
  {
   "cell_type": "markdown",
   "metadata": {},
   "source": [
    "Оболочка IPython предоставляет широкий выбор функциональности для выполнения подобного мониторинга скорости выполнения кода и его профилирования. Для этого применяются следующие \"магческие команды\":\n",
    "\n",
    "* `%time` — длительность выполнения отдельного оператора;\n",
    "* `%timeit` — длительность выполнения отдельного оператора при неоднократном повторе, для большей точности;\n",
    "* `%prun` — выполнение кода с использованием профилировщика;\n",
    "* `%lprun` — пошаговое выполнение кода с применением профилировщика;\n",
    "* `%memit` — оценка использования оперативной памяти для отдельного оператора;\n",
    "* `%mprun` — пошаговое выполнение кода с применением профилировщика памяти.\n"
   ]
  },
  {
   "cell_type": "markdown",
   "metadata": {},
   "source": [
    "Пример работы команды `%timeit` рассмотрен выше. Он позволяет оценивать время выполнения однострочных инструкций, выполняя многократный их запуск."
   ]
  },
  {
   "cell_type": "code",
   "execution_count": null,
   "metadata": {},
   "outputs": [],
   "source": [
    "%timeit sum(range(100))"
   ]
  },
  {
   "cell_type": "markdown",
   "metadata": {},
   "source": [
    "Если же нужно оценить время, которое затрачивается на выполнение нескольких строк кода, нужно использовать команду с двумя знаками `%` - `%%timeit`:"
   ]
  },
  {
   "cell_type": "code",
   "execution_count": null,
   "metadata": {},
   "outputs": [],
   "source": [
    "%%timeit\n",
    "    total = 0\n",
    "    for i in range(1000):\n",
    "        for j in range(1000):\n",
    "            total += i * (-1) ** j"
   ]
  },
  {
   "cell_type": "markdown",
   "metadata": {},
   "source": [
    "Для некоторых фрагментов кода будет полезно оценивать их длительность работы только по одному запуску. Для этого можно применять команду `%time` или `%%time` для многострочного фрагмента:"
   ]
  },
  {
   "cell_type": "code",
   "execution_count": null,
   "metadata": {},
   "outputs": [],
   "source": [
    "%%time\n",
    "    total = 0\n",
    "    for i in range(1000):\n",
    "        for j in range(1000):\n",
    "            total += i * (-1) ** j"
   ]
  },
  {
   "cell_type": "markdown",
   "metadata": {},
   "source": [
    "Программы состоят из множества отдельных операторов, и иногда оценка времени их выполнения в контексте важнее, чем по отдельности. В языке Python имеется встроенный профилировщик кода (о котором можно прочитать в документации \n",
    "языка Python), но оболочка IPython предоставляет намного более удобный способ его использования в виде «магической» функции `%prun`. Для пошагового профилирования может использоваться функция `%lprun`. Аналогично для профилирования объема используемой оперативной памяти могут применяться команды  `%memit` и `%mprun`. Подробную информацию  них можно узнать воспользовавшись справкой по этим командам."
   ]
  },
  {
   "cell_type": "markdown",
   "metadata": {},
   "source": [
    "### Основы Python"
   ]
  },
  {
   "cell_type": "markdown",
   "metadata": {},
   "source": [
    "Данный блокнот представляет собой адаптированную версию блокнота http://cs231n.github.io/python-numpy-tutorial."
   ]
  },
  {
   "cell_type": "markdown",
   "metadata": {},
   "source": [
    "#### Введение"
   ]
  },
  {
   "cell_type": "markdown",
   "metadata": {},
   "source": [
    "Python - отличный язык программирования общего назначения, а с помощью нескольких популярных библиотек (numpy, scipy, matplotlib) он становится мощной средой для научных вычислений.\n",
    "\n",
    "Мы ожидаем, что у многих из вас уже есть некоторый опыт работы с Python и numpy; для остальных вас этот раздел будет служить быстрым курсом знакомства как с языком программирования Python, так и использования Python для научных вычислений.\n",
    "\n",
    "Кто-то из вас знаком с Matlab, и в этом случае мы также рекомендуем страницу numpy для пользователей Matlab (https://docs.scipy.org/doc/numpy-dev/user/numpy-for-matlab-users.html )."
   ]
  },
  {
   "cell_type": "markdown",
   "metadata": {},
   "source": [
    "Будут рассмотрены:\n",
    "* Основы языка Python: основные типы данных (контейнеры, списки, словари, наборы, кортежи), функции, классы\n",
    "* Библиотека Numpy: массивы, индексирование массивов, типы данных, математика массивов, трансляция"
   ]
  },
  {
   "cell_type": "markdown",
   "metadata": {},
   "source": [
    "#### Основы языка Python"
   ]
  },
  {
   "cell_type": "markdown",
   "metadata": {},
   "source": [
    "Python - высокоуровневый, динамически типизированный язык программирования. Код Python часто называют псевдокодом, поскольку он позволяет вам выражать мощные алгоритмы в нескольких строках кода, оставаясь очень читабельным. В качестве примера рассмотрим реализацию классического алгоритма быстрой сортировки в Python:"
   ]
  },
  {
   "cell_type": "code",
   "execution_count": null,
   "metadata": {},
   "outputs": [],
   "source": [
    "def quicksort(arr):\n",
    "    if len(arr) <= 1:\n",
    "        return arr\n",
    "    pivot = arr[len(arr) // 2]\n",
    "    left = [x for x in arr if x < pivot]\n",
    "    middle = [x for x in arr if x == pivot]\n",
    "    right = [x for x in arr if x > pivot]\n",
    "    return quicksort(left) + middle + quicksort(right)\n",
    "\n",
    "print(quicksort([3,6,8,10,1,2,1]))"
   ]
  },
  {
   "cell_type": "markdown",
   "metadata": {},
   "source": [
    "#### Версии Python"
   ]
  },
  {
   "cell_type": "markdown",
   "metadata": {},
   "source": [
    "В настоящее время существуют две поддерживаемых версии Python - 2.7 и 3.6. В Python 3.0 добавлено много обратно несовместимых изменений, поэтому код, написанный для версии 2.7, может не работать под 3.6 и наоборот. Для этого класса весь код будет использовать Python 3.6.\n",
    "\n",
    "Вы можете проверить свою версию Python в командной строке, запустив `python -V`."
   ]
  },
  {
   "cell_type": "markdown",
   "metadata": {},
   "source": [
    "#### Основные типы данных"
   ]
  },
  {
   "cell_type": "markdown",
   "metadata": {},
   "source": [
    "##### Числа"
   ]
  },
  {
   "cell_type": "markdown",
   "metadata": {},
   "source": [
    "Целые числа и числа с плавающей запятой работают так, как и в других языках:"
   ]
  },
  {
   "cell_type": "code",
   "execution_count": null,
   "metadata": {},
   "outputs": [],
   "source": [
    "x = 3\n",
    "print(x, type(x))"
   ]
  },
  {
   "cell_type": "code",
   "execution_count": null,
   "metadata": {},
   "outputs": [],
   "source": [
    "print(x + 1)   # Addition;\n",
    "print(x - 1)   # Subtraction;\n",
    "print(x * 2)   # Multiplication;\n",
    "print(x ** 2)  # Exponentiation;"
   ]
  },
  {
   "cell_type": "code",
   "execution_count": null,
   "metadata": {},
   "outputs": [],
   "source": [
    "x += 1\n",
    "print(x)  # Prints \"4\"\n",
    "x *= 2\n",
    "print(x)  # Prints \"8\""
   ]
  },
  {
   "cell_type": "code",
   "execution_count": null,
   "metadata": {},
   "outputs": [],
   "source": [
    "y = 2.5\n",
    "print(type(y)) # Prints \"<type 'float'>\"\n",
    "print(y, y + 1, y * 2, y ** 2) # Prints \"2.5 3.5 5.0 6.25\""
   ]
  },
  {
   "cell_type": "markdown",
   "metadata": {},
   "source": [
    "Обратите внимание: в отличие от многих языков Python не имеет унарных инкрементов (x++) или декрементов (x--).\n",
    "Python также имеет встроенные типы для длинных целых чисел и комплексных чисел."
   ]
  },
  {
   "cell_type": "markdown",
   "metadata": {},
   "source": [
    "##### Логические переменные"
   ]
  },
  {
   "cell_type": "markdown",
   "metadata": {},
   "source": [
    "Python реализует все обычные операторы для булевой логики, но использует английские слова, а не символы (`&&`, `||` и т. д.):"
   ]
  },
  {
   "cell_type": "code",
   "execution_count": null,
   "metadata": {},
   "outputs": [],
   "source": [
    "t, f = True, False\n",
    "print(type(t)) # Prints \"<type 'bool'>\""
   ]
  },
  {
   "cell_type": "markdown",
   "metadata": {},
   "source": [
    "Теперь давайте посмотрим на операции:"
   ]
  },
  {
   "cell_type": "code",
   "execution_count": null,
   "metadata": {},
   "outputs": [],
   "source": [
    "print(t and f) # Logical AND;\n",
    "print(t or f)  # Logical OR;\n",
    "print(not t)   # Logical NOT;\n",
    "print(t != f)  # Logical XOR;"
   ]
  },
  {
   "cell_type": "markdown",
   "metadata": {},
   "source": [
    "##### Строки"
   ]
  },
  {
   "cell_type": "code",
   "execution_count": null,
   "metadata": {},
   "outputs": [],
   "source": [
    "hello = 'hello'   # String literals can use single quotes\n",
    "world = \"world\"   # or double quotes; it does not matter.\n",
    "print(hello, len(hello))"
   ]
  },
  {
   "cell_type": "code",
   "execution_count": null,
   "metadata": {},
   "outputs": [],
   "source": [
    "hw = hello + ' ' + world  # String concatenation\n",
    "print(hw)  # prints \"hello world\""
   ]
  },
  {
   "cell_type": "code",
   "execution_count": null,
   "metadata": {},
   "outputs": [],
   "source": [
    "hw12 = '%s %s %d' % (hello, world, 12)  # sprintf style string formatting\n",
    "print(hw12)  # prints \"hello world 12\""
   ]
  },
  {
   "cell_type": "markdown",
   "metadata": {},
   "source": [
    "Строковые объекты имеют множество полезных методов; например:"
   ]
  },
  {
   "cell_type": "code",
   "execution_count": null,
   "metadata": {},
   "outputs": [],
   "source": [
    "s = \"hello\"\n",
    "print(s.capitalize())  # Capitalize a string; prints \"Hello\"\n",
    "print(s.upper())       # Convert a string to uppercase; prints \"HELLO\"\n",
    "print(s.rjust(7))      # Right-justify a string, padding with spaces; prints \"  hello\"\n",
    "print(s.center(7))     # Center a string, padding with spaces; prints \" hello \"\n",
    "print(s.replace('l', '(ell)'))  # Replace all instances of one substring with another;\n",
    "                               # prints \"he(ell)(ell)o\"\n",
    "print('  world '.strip())  # Strip leading and trailing whitespace; prints \"world\""
   ]
  },
  {
   "cell_type": "markdown",
   "metadata": {},
   "source": [
    "Вы можете найти список всех строковых методов в [документации](https://docs.python.org/3/library/stdtypes.html#string-methods)."
   ]
  },
  {
   "cell_type": "markdown",
   "metadata": {},
   "source": [
    "#### Контейнеры"
   ]
  },
  {
   "cell_type": "markdown",
   "metadata": {},
   "source": [
    "Python включает несколько встроенных типов контейнеров: списки, словари, множества и кортежи."
   ]
  },
  {
   "cell_type": "markdown",
   "metadata": {},
   "source": [
    "##### Списки"
   ]
  },
  {
   "cell_type": "markdown",
   "metadata": {},
   "source": [
    "Список представляет собой эквивалент массива в Python, но может изменять размер и может содержать элементы разных типов:"
   ]
  },
  {
   "cell_type": "code",
   "execution_count": null,
   "metadata": {},
   "outputs": [],
   "source": [
    "xs = [3, 1, 2]   # Create a list\n",
    "print(xs, xs[2])\n",
    "print(xs[-1])     # Negative indices count from the end of the list; prints \"2\""
   ]
  },
  {
   "cell_type": "code",
   "execution_count": null,
   "metadata": {},
   "outputs": [],
   "source": [
    "xs[2] = 'foo'    # Lists can contain elements of different types\n",
    "print(xs)"
   ]
  },
  {
   "cell_type": "code",
   "execution_count": null,
   "metadata": {},
   "outputs": [],
   "source": [
    "xs.append('bar') # Add a new element to the end of the list\n",
    "print(xs)  "
   ]
  },
  {
   "cell_type": "code",
   "execution_count": null,
   "metadata": {},
   "outputs": [],
   "source": [
    "x = xs.pop()     # Remove and return the last element of the list\n",
    "print(x, xs) "
   ]
  },
  {
   "cell_type": "markdown",
   "metadata": {},
   "source": [
    "Как обычно, вы можете найти все подробные сведения о списках в [документации](https://docs.python.org/3/tutorial/datastructures.html#more-on-lists)."
   ]
  },
  {
   "cell_type": "markdown",
   "metadata": {},
   "source": [
    "##### Срезы"
   ]
  },
  {
   "cell_type": "markdown",
   "metadata": {},
   "source": [
    "Помимо доступа к элементам списка по одному, Python обеспечивает краткий синтаксис для доступа к подспискам; это называется срезами:"
   ]
  },
  {
   "cell_type": "code",
   "execution_count": null,
   "metadata": {},
   "outputs": [],
   "source": [
    "nums = list(range(5))    # range is a built-in function that creates a list of integers\n",
    "print(nums)         # Prints \"[0, 1, 2, 3, 4]\"\n",
    "print(nums[2:4])    # Get a slice from index 2 to 4 (exclusive); prints \"[2, 3]\"\n",
    "print(nums[2:])     # Get a slice from index 2 to the end; prints \"[2, 3, 4]\"\n",
    "print(nums[:2])     # Get a slice from the start to index 2 (exclusive); prints \"[0, 1]\"\n",
    "print(nums[:])      # Get a slice of the whole list; prints [\"0, 1, 2, 3, 4]\"\n",
    "print(nums[:-1])    # Slice indices can be negative; prints [\"0, 1, 2, 3]\"\n",
    "nums[2:4] = [8, 9] # Assign a new sublist to a slice\n",
    "print(nums)         # Prints \"[0, 1, 8, 9, 4]\""
   ]
  },
  {
   "cell_type": "markdown",
   "metadata": {},
   "source": [
    "##### Циклы"
   ]
  },
  {
   "cell_type": "markdown",
   "metadata": {},
   "source": [
    "Вы можете перебирать элементы списка следующим образом:"
   ]
  },
  {
   "cell_type": "code",
   "execution_count": null,
   "metadata": {},
   "outputs": [],
   "source": [
    "animals = ['cat', 'dog', 'monkey']\n",
    "for animal in animals:\n",
    "    print(animal)"
   ]
  },
  {
   "cell_type": "markdown",
   "metadata": {},
   "source": [
    "Если вы хотите получить доступ к индексу каждого элемента в теле цикла, используйте встроенную функцию `enumerate`:"
   ]
  },
  {
   "cell_type": "code",
   "execution_count": null,
   "metadata": {},
   "outputs": [],
   "source": [
    "animals = ['cat', 'dog', 'monkey']\n",
    "for idx, animal in enumerate(animals):\n",
    "    print('#%d: %s' % (idx + 1, animal))"
   ]
  },
  {
   "cell_type": "markdown",
   "metadata": {},
   "source": [
    "##### Списковое включение"
   ]
  },
  {
   "cell_type": "markdown",
   "metadata": {},
   "source": [
    "При программировании часто мы хотим преобразовать один тип данных в другой. В качестве простого примера рассмотрим следующий код, который вычисляет квадрат чисел:"
   ]
  },
  {
   "cell_type": "code",
   "execution_count": null,
   "metadata": {},
   "outputs": [],
   "source": [
    "nums = [0, 1, 2, 3, 4]\n",
    "squares = []\n",
    "for x in nums:\n",
    "    squares.append(x ** 2)\n",
    "print(squares)"
   ]
  },
  {
   "cell_type": "markdown",
   "metadata": {},
   "source": [
    "Вы можете сделать этот код проще, используя включение списка:"
   ]
  },
  {
   "cell_type": "code",
   "execution_count": null,
   "metadata": {},
   "outputs": [],
   "source": [
    "nums = [0, 1, 2, 3, 4]\n",
    "squares = [x ** 2 for x in nums]\n",
    "print(squares)"
   ]
  },
  {
   "cell_type": "markdown",
   "metadata": {},
   "source": [
    "В списковом включении могут также содержаться условия:"
   ]
  },
  {
   "cell_type": "code",
   "execution_count": null,
   "metadata": {},
   "outputs": [],
   "source": [
    "nums = [0, 1, 2, 3, 4]\n",
    "even_squares = [x ** 2 for x in nums if x % 2 == 0]\n",
    "print(even_squares)"
   ]
  },
  {
   "cell_type": "markdown",
   "metadata": {},
   "source": [
    "##### Словари"
   ]
  },
  {
   "cell_type": "markdown",
   "metadata": {},
   "source": [
    "Словарь хранит пары (ключ, значение), похожие на `Map` в Java или `object` в Javascript. Вы можете использовать его следующим образом:"
   ]
  },
  {
   "cell_type": "code",
   "execution_count": null,
   "metadata": {},
   "outputs": [],
   "source": [
    "d = {'cat': 'cute', 'dog': 'furry'}  # Create a new dictionary with some data\n",
    "print(d['cat'])       # Get an entry from a dictionary; prints \"cute\"\n",
    "print('cat' in d)     # Check if a dictionary has a given key; prints \"True\""
   ]
  },
  {
   "cell_type": "code",
   "execution_count": null,
   "metadata": {},
   "outputs": [],
   "source": [
    "d['fish'] = 'wet'    # Set an entry in a dictionary\n",
    "print(d['fish'])      # Prints \"wet\""
   ]
  },
  {
   "cell_type": "code",
   "execution_count": null,
   "metadata": {},
   "outputs": [],
   "source": [
    "print(d['monkey'])  # KeyError: 'monkey' not a key of d"
   ]
  },
  {
   "cell_type": "code",
   "execution_count": null,
   "metadata": {},
   "outputs": [],
   "source": [
    "print(d.get('monkey', 'N/A'))  # Get an element with a default; prints \"N/A\"\n",
    "print(d.get('fish', 'N/A'))    # Get an element with a default; prints \"wet\""
   ]
  },
  {
   "cell_type": "code",
   "execution_count": null,
   "metadata": {},
   "outputs": [],
   "source": [
    "del d['fish']        # Remove an element from a dictionary\n",
    "print(d.get('fish', 'N/A')) # \"fish\" is no longer a key; prints \"N/A\""
   ]
  },
  {
   "cell_type": "markdown",
   "metadata": {},
   "source": [
    "Вы можете найти все, что вам нужно знать о словарях в [документации](https://docs.python.org/3/library/stdtypes.html#dict).\n"
   ]
  },
  {
   "cell_type": "markdown",
   "metadata": {},
   "source": [
    "Легко перебирать ключи в словаре:"
   ]
  },
  {
   "cell_type": "code",
   "execution_count": null,
   "metadata": {},
   "outputs": [],
   "source": [
    "d = {'person': 2, 'cat': 4, 'spider': 8}\n",
    "for animal in d:\n",
    "    legs = d[animal]\n",
    "    print('A %s has %d legs' % (animal, legs))"
   ]
  },
  {
   "cell_type": "markdown",
   "metadata": {},
   "source": [
    "Если вы хотите получить доступ к ключам и их соответствующим значениям, используйте метод items:"
   ]
  },
  {
   "cell_type": "code",
   "execution_count": null,
   "metadata": {},
   "outputs": [],
   "source": [
    "d = {'person': 2, 'cat': 4, 'spider': 8}\n",
    "for animal, legs in d.items():\n",
    "    print('A %s has %d legs' % (animal, legs))"
   ]
  },
  {
   "cell_type": "markdown",
   "metadata": {},
   "source": [
    "Словарные включения: они похожи на списковые включения, но позволяют легко создавать словари. Например:"
   ]
  },
  {
   "cell_type": "code",
   "execution_count": null,
   "metadata": {},
   "outputs": [],
   "source": [
    "nums = [0, 1, 2, 3, 4]\n",
    "even_num_to_square = {x: x ** 2 for x in nums if x % 2 == 0}\n",
    "print(even_num_to_square)"
   ]
  },
  {
   "cell_type": "markdown",
   "metadata": {},
   "source": [
    "##### Множества"
   ]
  },
  {
   "cell_type": "markdown",
   "metadata": {},
   "source": [
    "Множество представляет собой неупорядоченный набор отдельных элементов. В качестве простого примера рассмотрим следующее:"
   ]
  },
  {
   "cell_type": "code",
   "execution_count": null,
   "metadata": {},
   "outputs": [],
   "source": [
    "animals = {'cat', 'dog'}\n",
    "print('cat' in animals)   # Check if an element is in a set; prints \"True\"\n",
    "print('fish' in animals)  # prints \"False\"\n"
   ]
  },
  {
   "cell_type": "code",
   "execution_count": null,
   "metadata": {},
   "outputs": [],
   "source": [
    "animals.add('fish')      # Add an element to a set\n",
    "print('fish' in animals)\n",
    "print(len(animals))       # Number of elements in a set;"
   ]
  },
  {
   "cell_type": "code",
   "execution_count": null,
   "metadata": {},
   "outputs": [],
   "source": [
    "animals.add('cat')       # Adding an element that is already in the set does nothing\n",
    "print(len(animals))       \n",
    "animals.remove('cat')    # Remove an element from a set\n",
    "print(len(animals))       "
   ]
  },
  {
   "cell_type": "markdown",
   "metadata": {},
   "source": [
    "_Циклы_: Итерация по множеству имеет тот же синтаксис, что и итерация по списку; однако, поскольку множества неупорядочены, вы не можете знать о порядке, в котором вы выбираете элементы набора:"
   ]
  },
  {
   "cell_type": "code",
   "execution_count": null,
   "metadata": {},
   "outputs": [],
   "source": [
    "animals = {'cat', 'dog', 'fish'}\n",
    "for idx, animal in enumerate(animals):\n",
    "    print('#%d: %s' % (idx + 1, animal))\n",
    "# Prints \"#1: fish\", \"#2: dog\", \"#3: cat\""
   ]
  },
  {
   "cell_type": "markdown",
   "metadata": {},
   "source": [
    "Включения множества. Подобно спискам и словарям, мы можем легко создавать меножества с использованием влючения множества:"
   ]
  },
  {
   "cell_type": "code",
   "execution_count": null,
   "metadata": {},
   "outputs": [],
   "source": [
    "from math import sqrt\n",
    "print({int(sqrt(x)) for x in range(30)})"
   ]
  },
  {
   "cell_type": "markdown",
   "metadata": {},
   "source": [
    "##### Кортежи"
   ]
  },
  {
   "cell_type": "markdown",
   "metadata": {},
   "source": [
    "Кортеж представляет собой упорядоченный список значений. Кортеж во многом похож на список; одним из наиболее важных различий является то, что кортежи могут использоваться как ключи в словарях и как элементы множеств, в то время как списки не могут. Вот простой пример:"
   ]
  },
  {
   "cell_type": "code",
   "execution_count": null,
   "metadata": {},
   "outputs": [],
   "source": [
    "d = {(x, x + 1): x for x in range(10)}  # Create a dictionary with tuple keys\n",
    "t = (5, 6)       # Create a tuple\n",
    "print(type(t))\n",
    "print(d[t])       \n",
    "print(d[(1, 2)])"
   ]
  },
  {
   "cell_type": "code",
   "execution_count": null,
   "metadata": {},
   "outputs": [],
   "source": [
    "t[0] = 1"
   ]
  },
  {
   "cell_type": "markdown",
   "metadata": {},
   "source": [
    "#### Функции"
   ]
  },
  {
   "cell_type": "markdown",
   "metadata": {},
   "source": [
    "Функции Python определяются с помощью ключевого слова `def`. Например:"
   ]
  },
  {
   "cell_type": "code",
   "execution_count": null,
   "metadata": {},
   "outputs": [],
   "source": [
    "def sign(x):\n",
    "    if x > 0:\n",
    "        return 'positive'\n",
    "    elif x < 0:\n",
    "        return 'negative'\n",
    "    else:\n",
    "        return 'zero'\n",
    "\n",
    "for x in [-1, 0, 1]:\n",
    "    print(sign(x))"
   ]
  },
  {
   "cell_type": "markdown",
   "metadata": {},
   "source": [
    "Мы часто будем определять функции с необязательными аргументами, например:"
   ]
  },
  {
   "cell_type": "code",
   "execution_count": null,
   "metadata": {},
   "outputs": [],
   "source": [
    "def hello(name, loud=False):\n",
    "    if loud:\n",
    "        print('HELLO, %s!' % name.upper())\n",
    "    else:\n",
    "        print('Hello, %s' % name)\n",
    "\n",
    "hello('Bob')\n",
    "hello('Fred', loud=True)"
   ]
  },
  {
   "cell_type": "markdown",
   "metadata": {},
   "source": [
    "#### Классы"
   ]
  },
  {
   "cell_type": "markdown",
   "metadata": {},
   "source": [
    "\n",
    "Синтаксис для определения классов в Python прост:"
   ]
  },
  {
   "cell_type": "code",
   "execution_count": null,
   "metadata": {},
   "outputs": [],
   "source": [
    "class Greeter:\n",
    "\n",
    "    # Constructor\n",
    "    def __init__(self, name):\n",
    "        self.name = name  # Create an instance variable\n",
    "\n",
    "    # Instance method\n",
    "    def greet(self, loud=False):\n",
    "        if loud:\n",
    "            print('HELLO, %s!' % self.name.upper())\n",
    "        else:\n",
    "            print('Hello, %s' % self.name)\n",
    "\n",
    "g = Greeter('Fred')  # Construct an instance of the Greeter class\n",
    "g.greet()            # Call an instance method; prints \"Hello, Fred\"\n",
    "g.greet(loud=True)   # Call an instance method; prints \"HELLO, FRED!\""
   ]
  },
  {
   "cell_type": "markdown",
   "metadata": {},
   "source": [
    "##### <font color='red'>Задание</font>\n",
    "\n",
    "Создать класс, реализующий функционал учета рейтинга студентов **StudentsRaiting**. Класс должен иметь конструктор, который будет принимать список студентов с результатами сданных экзаменов, реализованый в виде словаря с ключем \"ФИО студента\" и оценками по экзаменам по 4 предметам (Программирование, Дискретная математика, Иностранный язык, Философия), представленными в виде упорядоченного множества (кортежа). Например:\n",
    "\n",
    "`{\"Иванов Петр Николавич\":(3,3,5,4), \"Петров Иван Константинович\":(5,4,5,4)}`\n",
    "\n",
    "Релизовать методы: \n",
    "- добавления студента с оценками по экзаменам\n",
    "- удаления студента из рейтинга \n",
    "- получения списка студентов с рейтингом выше порогового\n",
    "- метод демонстрации работы методов класса с выводом результатов на печать в виде текстовой таблицы.\n",
    "\n",
    "Примечание:\n",
    "Рейтинг составляется по суммарному баллу по всем предметам."
   ]
  },
  {
   "cell_type": "code",
   "execution_count": null,
   "metadata": {},
   "outputs": [],
   "source": [
    "class StudentsRating:\n",
    "    def __init__(self, studentsToGrade):\n",
    "        self.studentsToGrade = studentsToGrade\n",
    "\n",
    "    def __add__(self, other):\n",
    "        self.studentsToGrade.update(other)\n",
    "        return self\n",
    "\n",
    "    def __sub__(self, other):\n",
    "        self.studentsToGrade.pop(other, None)\n",
    "        return self\n",
    "\n",
    "    def get_greater_than(self, treshold):\n",
    "        return [student for student, grades in self.studentsToGrade.items() if sum(grades) > treshold]\n",
    "\n",
    "    def __str__(self):\n",
    "        return ''.join([student.ljust(30) + ' '.join(list(map(str, grades))) + '\\n' for student, grades in self.studentsToGrade.items()])\n",
    "\n",
    "\n",
    "print(\"Таблица студентов:\")\n",
    "students = {\"Иванов Петр Николавич\": (3, 3, 5, 4), \"Петров Иван Константинович\": (5, 4, 5, 4)}\n",
    "sr = StudentsRating(students)\n",
    "print(sr)\n",
    "\n",
    "print(\"Добавление нового студента:\")\n",
    "sr += {\"Сидоров Емельян Егорович\": (4, 3, 4, 5)}\n",
    "print(sr)\n",
    "\n",
    "print(\"Вывод списка студентов с рейтингом выше чем пороговый:\")\n",
    "print(sr.get_greater_than(15))\n",
    "print()\n",
    "\n",
    "print(\"Удаление студента:\")\n",
    "sr -= \"Иванов Петр Николавич\"\n",
    "print(sr)\n"
   ]
  },
  {
   "cell_type": "markdown",
   "metadata": {},
   "source": [
    "### Numpy"
   ]
  },
  {
   "cell_type": "markdown",
   "metadata": {},
   "source": [
    "Numpy - это основная библиотека для научных вычислений на Python. Он предоставляет высокопроизводительный объект многомерных массивов и инструменты для работы с этими массивами. Если вы уже знакомы с MATLAB, то можно ознакомиться с эти [материалом](http://wiki.scipy.org/NumPy_for_Matlab_Users), полезным для начала работы с Numpy."
   ]
  },
  {
   "cell_type": "markdown",
   "metadata": {},
   "source": [
    "Чтобы использовать Numpy, сначала нужно импортировать пакет `numpy`:"
   ]
  },
  {
   "cell_type": "code",
   "execution_count": null,
   "metadata": {},
   "outputs": [],
   "source": [
    "import numpy as np"
   ]
  },
  {
   "cell_type": "markdown",
   "metadata": {},
   "source": [
    "#### Массивы"
   ]
  },
  {
   "cell_type": "markdown",
   "metadata": {},
   "source": [
    "Массив numpy представляет собой сетку значений одного типа и индексируется кортежем неотрицательных целых чисел. Число измерений - это ранг массива; форма массива представляет собой набор целых чисел, дающий размер массива вдоль каждого измерения."
   ]
  },
  {
   "cell_type": "markdown",
   "metadata": {},
   "source": [
    "Мы можем инициализировать массивы numpy из списков Python и обращаться к элементам с использованием квадратных скобок:"
   ]
  },
  {
   "cell_type": "code",
   "execution_count": null,
   "metadata": {},
   "outputs": [],
   "source": [
    "a = np.array([1, 2, 3])  # Create a rank 1 array\n",
    "print(type(a), a.shape, a[0], a[1], a[2])\n",
    "a[0] = 5                 # Change an element of the array\n",
    "print(a)                  "
   ]
  },
  {
   "cell_type": "code",
   "execution_count": null,
   "metadata": {},
   "outputs": [],
   "source": [
    "b = np.array([[1,2,3],[4,5,6]])   # Create a rank 2 array\n",
    "print(b)"
   ]
  },
  {
   "cell_type": "code",
   "execution_count": null,
   "metadata": {},
   "outputs": [],
   "source": [
    "print(b.shape)                   \n",
    "print(b[0, 0], b[0, 1], b[1, 0])"
   ]
  },
  {
   "cell_type": "markdown",
   "metadata": {},
   "source": [
    "Numpy также предоставляет множество функций для создания массивов:\n"
   ]
  },
  {
   "cell_type": "code",
   "execution_count": null,
   "metadata": {},
   "outputs": [],
   "source": [
    "a = np.zeros((2,2))  # Create an array of all zeros\n",
    "print(a)"
   ]
  },
  {
   "cell_type": "code",
   "execution_count": null,
   "metadata": {},
   "outputs": [],
   "source": [
    "b = np.ones((1,2))   # Create an array of all ones\n",
    "print(b)"
   ]
  },
  {
   "cell_type": "code",
   "execution_count": null,
   "metadata": {},
   "outputs": [],
   "source": [
    "c = np.full((2,2), 7) # Create a constant array\n",
    "print(c) "
   ]
  },
  {
   "cell_type": "code",
   "execution_count": null,
   "metadata": {},
   "outputs": [],
   "source": [
    "d = np.eye(2)        # Create a 2x2 identity matrix\n",
    "print(d)"
   ]
  },
  {
   "cell_type": "code",
   "execution_count": null,
   "metadata": {},
   "outputs": [],
   "source": [
    "e = np.random.random((2,2)) # Create an array filled with random values\n",
    "print(e)"
   ]
  },
  {
   "cell_type": "markdown",
   "metadata": {},
   "source": [
    "#### Типы данных"
   ]
  },
  {
   "cell_type": "markdown",
   "metadata": {},
   "source": [
    "Каждый массив numpy представляет собой набор элементов одного типа. Numpy предоставляет большой набор числовых типов данных, которые можно использовать для построения массивов. Numpy пытается угадать тип данных при создании массива, но функции, которые строят массивы, обычно также включают необязательный аргумент, чтобы явно указать тип данных. Например:"
   ]
  },
  {
   "cell_type": "code",
   "execution_count": null,
   "metadata": {},
   "outputs": [],
   "source": [
    "x = np.array([1, 2])  # Let numpy choose the datatype\n",
    "y = np.array([1.0, 2.0])  # Let numpy choose the datatype\n",
    "z = np.array([1, 2], dtype=np.int64)  # Force a particular datatype\n",
    "\n",
    "print(x.dtype, y.dtype, z.dtype)"
   ]
  },
  {
   "cell_type": "markdown",
   "metadata": {},
   "source": [
    "Вы можете прочитать все о типах данных numpy в [документации](http://docs.scipy.org/doc/numpy/reference/arrays.dtypes.html)."
   ]
  },
  {
   "cell_type": "markdown",
   "metadata": {},
   "source": [
    "#### Атрибуты массивов"
   ]
  },
  {
   "cell_type": "markdown",
   "metadata": {},
   "source": [
    "При работе с массивами библиотеки NumPy можно получить полезную информацию о форме, размерностях массива, о типах данных элементов и занимаемом объеме данных."
   ]
  },
  {
   "cell_type": "code",
   "execution_count": null,
   "metadata": {},
   "outputs": [],
   "source": [
    "import numpy as np\n",
    "np.random.seed(0)  # начальное значение для целей воспроизводимости\n",
    "x1 = np.random.randint(10, size=6)          # одномерный массив\n",
    "x2 = np.random.randint(10, size=(3, 4))     # двумерный массив\n",
    "x3 = np.random.randint(10, size=(3, 4, 5))  # трехмерный массив"
   ]
  },
  {
   "cell_type": "code",
   "execution_count": null,
   "metadata": {
    "scrolled": true
   },
   "outputs": [],
   "source": [
    "print(\"x3 ndim: \", x3.ndim)\n",
    "print(\"x3 shape:\", x3.shape)\n",
    "print(\"x3 size: \", x3.size)"
   ]
  },
  {
   "cell_type": "code",
   "execution_count": null,
   "metadata": {},
   "outputs": [],
   "source": [
    "print(\"dtype:\", x3.dtype)"
   ]
  },
  {
   "cell_type": "code",
   "execution_count": null,
   "metadata": {},
   "outputs": [],
   "source": [
    "print(\"itemsize:\", x3.itemsize, \"bytes\")"
   ]
  },
  {
   "cell_type": "code",
   "execution_count": null,
   "metadata": {},
   "outputs": [],
   "source": [
    " print(\"nbytes:\", x3.nbytes, \"bytes\")"
   ]
  },
  {
   "cell_type": "markdown",
   "metadata": {},
   "source": [
    "##### <font color=red>Задание</font>\n",
    "Создать массив значений типа `int32` размером 10х10, состоящий из равномерно распределенных случайных чисел от 0 до 100. Получить 4 копии этого массива со значениями типа `uint32`,`int64`,`uint64`,`float`. Для каждого массива вывести сведения: число размерностей, форма, размер, тип данных, размер каждого значения в байтах и размер всего массива в байтах.\n"
   ]
  },
  {
   "cell_type": "code",
   "execution_count": null,
   "metadata": {},
   "outputs": [],
   "source": [
    "# Выполнение задания\n",
    "import numpy as np\n",
    "\n",
    "np.random.seed(0)\n",
    "matrixInt32 = np.array(np.random.randint(100, size=(10, 10)), dtype=np.int32)\n",
    "matrixUint32 = np.copy(matrixInt32).astype(dtype=np.uint32)\n",
    "matrixInt64 = np.copy(matrixInt32).astype(dtype=np.int64)\n",
    "matrixUint64 = np.copy(matrixInt32).astype(dtype=np.uint64)\n",
    "matrixFloat = np.copy(matrixInt32).astype(dtype=np.float)\n",
    "\n",
    "print(\"matrixInt32:\")\n",
    "print(\"ndim: \", matrixInt32.ndim)\n",
    "print(\"shape:\", matrixInt32.shape)\n",
    "print(\"size: \", matrixInt32.size)\n",
    "print(\"dtype:\", matrixInt32.dtype)\n",
    "print(\"itemsize:\", matrixInt32.itemsize, \"bytes\")\n",
    "print(\"nbytes:\", matrixInt32.nbytes, \"bytes\")\n",
    "print()\n",
    "\n",
    "print(\"matrixUint32:\")\n",
    "print(\"ndim: \", matrixUint32.ndim)\n",
    "print(\"shape:\", matrixUint32.shape)\n",
    "print(\"size: \", matrixUint32.size)\n",
    "print(\"dtype:\", matrixUint32.dtype)\n",
    "print(\"itemsize:\", matrixUint32.itemsize, \"bytes\")\n",
    "print(\"nbytes:\", matrixUint32.nbytes, \"bytes\")\n",
    "print()\n",
    "\n",
    "print(\"matrixInt64:\")\n",
    "print(\"ndim: \", matrixInt64.ndim)\n",
    "print(\"shape:\", matrixInt64.shape)\n",
    "print(\"size: \", matrixInt64.size)\n",
    "print(\"dtype:\", matrixInt64.dtype)\n",
    "print(\"itemsize:\", matrixInt64.itemsize, \"bytes\")\n",
    "print(\"nbytes:\", matrixInt64.nbytes, \"bytes\")\n",
    "print()\n",
    "\n",
    "print(\"matrixUint64:\")\n",
    "print(\"ndim: \", matrixUint64.ndim)\n",
    "print(\"shape:\", matrixUint64.shape)\n",
    "print(\"size: \", matrixUint64.size)\n",
    "print(\"dtype:\", matrixUint64.dtype)\n",
    "print(\"itemsize:\", matrixUint64.itemsize, \"bytes\")\n",
    "print(\"nbytes:\", matrixUint64.nbytes, \"bytes\")\n",
    "print()\n",
    "\n",
    "print(\"matrixFloat:\")\n",
    "print(\"ndim: \", matrixFloat.ndim)\n",
    "print(\"shape:\", matrixFloat.shape)\n",
    "print(\"size: \", matrixFloat.size)\n",
    "print(\"dtype:\", matrixFloat.dtype)\n",
    "print(\"itemsize:\", matrixFloat.itemsize, \"bytes\")\n",
    "print(\"nbytes:\", matrixFloat.nbytes, \"bytes\")"
   ]
  },
  {
   "cell_type": "markdown",
   "metadata": {},
   "source": [
    "#### Индексация массивов"
   ]
  },
  {
   "cell_type": "markdown",
   "metadata": {},
   "source": [
    "Numpy предлагает несколько способов индексации в массивах."
   ]
  },
  {
   "cell_type": "markdown",
   "metadata": {},
   "source": [
    "**Срезы**: Подобно спискам Python, с массивами numpy можно выполнять срезы. Поскольку массивы могут быть многомерными, вы должны указать срез для каждого измерения массива:"
   ]
  },
  {
   "cell_type": "code",
   "execution_count": null,
   "metadata": {},
   "outputs": [],
   "source": [
    "import numpy as np\n",
    "\n",
    "# Create the following rank 2 array with shape (3, 4)\n",
    "# [[ 1  2  3  4]\n",
    "#  [ 5  6  7  8]\n",
    "#  [ 9 10 11 12]]\n",
    "a = np.array([[1,2,3,4], [5,6,7,8], [9,10,11,12]])\n",
    "\n",
    "# Use slicing to pull out the subarray consisting of the first 2 rows\n",
    "# and columns 1 and 2; b is the following array of shape (2, 2):\n",
    "# [[2 3]\n",
    "#  [6 7]]\n",
    "b = a[:2, 1:3]\n",
    "print(b)"
   ]
  },
  {
   "cell_type": "markdown",
   "metadata": {},
   "source": [
    "Срез массива является представлением исходных данных, поэтому его изменение изменит исходный массив."
   ]
  },
  {
   "cell_type": "code",
   "execution_count": null,
   "metadata": {},
   "outputs": [],
   "source": [
    "print(a[0, 1])  \n",
    "b[0, 0] = 77    # b[0, 0] is the same piece of data as a[0, 1]\n",
    "print(a[0, 1]) "
   ]
  },
  {
   "cell_type": "markdown",
   "metadata": {},
   "source": [
    "\n",
    "Вы также можете комбинировать индексирование целыми числами с индексацией срезами. Однако при этом будет получен массив меньшего ранга, чем исходный массив. Обратите внимание, что это сильно отличается от того, как MATLAB обрабатывает срез массива:"
   ]
  },
  {
   "cell_type": "code",
   "execution_count": null,
   "metadata": {},
   "outputs": [],
   "source": [
    "# Create the following rank 2 array with shape (3, 4)\n",
    "a = np.array([[1,2,3,4], [5,6,7,8], [9,10,11,12]])\n",
    "print(a)"
   ]
  },
  {
   "cell_type": "markdown",
   "metadata": {},
   "source": [
    "Два способа доступа к данным в средней строке массива.\n",
    "Смешивание целых индексов с индексацией срезами дает массив более низкого ранга,\n",
    "в то время как использование только срезов дает массив того же ранга, что и\n",
    "исходный массив:"
   ]
  },
  {
   "cell_type": "code",
   "execution_count": null,
   "metadata": {},
   "outputs": [],
   "source": [
    "row_r1 = a[1, :]    # Rank 1 view of the second row of a  \n",
    "row_r2 = a[1:2, :]  # Rank 2 view of the second row of a\n",
    "row_r3 = a[[1], :]  # Rank 2 view of the second row of a\n",
    "print(row_r1, row_r1.shape) \n",
    "print(row_r2, row_r2.shape)\n",
    "print(row_r3, row_r3.shape)"
   ]
  },
  {
   "cell_type": "markdown",
   "metadata": {},
   "source": [
    "##### <font color=red>Задание</font>\n",
    "Выполнить следующий код и объяснить результат."
   ]
  },
  {
   "cell_type": "code",
   "execution_count": null,
   "metadata": {},
   "outputs": [],
   "source": [
    "col_r1 = a[:, 1]\n",
    "col_r2 = a[:, 1:2]\n",
    "print(col_r1, col_r1.shape)\n",
    "print()\n",
    "print(col_r2, col_r2.shape)"
   ]
  },
  {
   "cell_type": "markdown",
   "metadata": {},
   "source": [
    "*Написать обьяснение:*\n",
    "Выбирается второй столбец двумерной матрицы. col_r1 содержит одномерный массив, так как для среза был передан целочисленный аргумент. col_r2 содержит двумерный подмассив исходного массива, так как для среза был передан срез"
   ]
  },
  {
   "cell_type": "markdown",
   "metadata": {},
   "source": [
    "**Целочисленное индексирование массива**: при индексировании в массивах numpy с использованием срезов результирующее представление массива всегда будет подмассивом исходного массива. \n",
    "Напротив, индексирование целыми числами позволяет создавать произвольные массивы с использованием данных из другого массива. Например:"
   ]
  },
  {
   "cell_type": "code",
   "execution_count": null,
   "metadata": {},
   "outputs": [],
   "source": [
    "a = np.array([[1,2], [3, 4], [5, 6]])\n",
    "\n",
    "# An example of integer array indexing.\n",
    "# The returned array will have shape (3,) and \n",
    "print(a[[0, 1, 2], [0, 1, 0]])\n",
    "\n",
    "# The above example of integer array indexing is equivalent to this:\n",
    "print(np.array([a[0, 0], a[1, 1], a[2, 0]]))"
   ]
  },
  {
   "cell_type": "code",
   "execution_count": null,
   "metadata": {},
   "outputs": [],
   "source": [
    "# When using integer array indexing, you can reuse the same\n",
    "# element from the source array:\n",
    "print(a[[0, 0], [1, 1]])\n",
    "\n",
    "# Equivalent to the previous integer array indexing example\n",
    "print(np.array([a[0, 1], a[0, 1]]))"
   ]
  },
  {
   "cell_type": "markdown",
   "metadata": {},
   "source": [
    "Один полезный трюк с индексированием целочисленного массива - это выбор или изменение одного элемента из каждой строки матрицы:"
   ]
  },
  {
   "cell_type": "code",
   "execution_count": null,
   "metadata": {},
   "outputs": [],
   "source": [
    "# Create a new array from which we will select elements\n",
    "a = np.array([[1,2,3], [4,5,6], [7,8,9], [10, 11, 12]])\n",
    "print(a)"
   ]
  },
  {
   "cell_type": "code",
   "execution_count": null,
   "metadata": {},
   "outputs": [],
   "source": [
    "# Create an array of indices\n",
    "b = np.array([0, 2, 0, 1])\n",
    "\n",
    "# Select one element from each row of a using the indices in b\n",
    "print(a[np.arange(4), b])  # Prints \"[ 1  6  7 11]\""
   ]
  },
  {
   "cell_type": "code",
   "execution_count": null,
   "metadata": {},
   "outputs": [],
   "source": [
    "# Mutate one element from each row of a using the indices in b\n",
    "a[np.arange(4), b] += 10\n",
    "print(a)"
   ]
  },
  {
   "cell_type": "markdown",
   "metadata": {},
   "source": [
    "Иногда при индексации при помощи срезов бывает полезно работать не с представлением исходного массива, а иметь новый независимый массив данных из исходного массива. Т.е. нужно скопировать представление массива при помощи метода `copy`."
   ]
  },
  {
   "cell_type": "code",
   "execution_count": null,
   "metadata": {},
   "outputs": [],
   "source": [
    "x = np.random.randint(10,size=(3,4))\n",
    "x_sub_copy = x[:2, :2].copy()\n",
    "print(x_sub_copy)"
   ]
  },
  {
   "cell_type": "markdown",
   "metadata": {},
   "source": [
    "**Индексирование при помощи булевых массивов**: индексирование при помощи булевых массивов позволяет выбирать произвольные элементы массива. Часто этот тип индексации используется для выбора элементов массива, которые удовлетворяют некоторому условию. Вот пример:"
   ]
  },
  {
   "cell_type": "code",
   "execution_count": null,
   "metadata": {},
   "outputs": [],
   "source": [
    "import numpy as np\n",
    "\n",
    "a = np.array([[1,2], [3, 4], [5, 6]])\n",
    "\n",
    "bool_idx = (a > 2)  # Find the elements of a that are bigger than 2;\n",
    "                    # this returns a numpy array of Booleans of the same\n",
    "                    # shape as a, where each slot of bool_idx tells\n",
    "                    # whether that element of a is > 2.\n",
    "\n",
    "print(bool_idx)"
   ]
  },
  {
   "cell_type": "code",
   "execution_count": null,
   "metadata": {},
   "outputs": [],
   "source": [
    "# We use boolean array indexing to construct a rank 1 array\n",
    "# consisting of the elements of a corresponding to the True values\n",
    "# of bool_idx\n",
    "print(a[bool_idx])\n",
    "\n",
    "# We can do all of the above in a single concise statement:\n",
    "print(a[a > 2])"
   ]
  },
  {
   "cell_type": "markdown",
   "metadata": {},
   "source": [
    "##### <font color=red>Задание</font>\n",
    "Создать массив случайных целочисленных значений (от -100 до 100) размером 8x8. Используя индексацию булевыми массивами получить:\n",
    "1. Все элементы, значения которых являются четными числами. Вывести их маску в массиве.\n",
    "2. Все элементы, значения которых попадают в диапазон от 10 до 50. Вывести их маску в массиве.\n",
    "3. Все элементы, значения которых являются четными числами и попадают в диапазон от 10 до 50. Вывести их маску в массиве.\n",
    "4. Все элементы, значения которых являются нечетными числами и модуль значения которых из диапазона от 10 до 50. Вывести их маску в массиве.\n",
    "5. Все элементы, значения которых являются нечетными числами или отрицательными."
   ]
  },
  {
   "cell_type": "code",
   "execution_count": null,
   "metadata": {},
   "outputs": [],
   "source": [
    "# Выполнение задания\n",
    "import numpy as np\n",
    "\n",
    "np.random.seed(0)\n",
    "matrix = np.array(np.random.randint(-100, 100, size=(8, 8)))\n",
    "print(\"Матрица:\")\n",
    "print(matrix)\n",
    "print()\n",
    "\n",
    "print(\"Четные:\")\n",
    "bool_idx_even = (matrix % 2 == 0)\n",
    "print(bool_idx_even)\n",
    "print()\n",
    "\n",
    "print(\"В диапазоне от 10 до 50:\")\n",
    "bool_idx_range = (matrix >= 10) & (matrix <= 50)\n",
    "print(bool_idx_range)\n",
    "print()\n",
    "\n",
    "print(\"Четные и в диапазоне от 10 до 50:\")\n",
    "print(bool_idx_even & bool_idx_range)\n",
    "print()\n",
    "\n",
    "print(\"Нечетные и модуль в диапазоне от 10 до 50:\")\n",
    "bool_idx_uneven_absrange = (matrix % 2 != 0) & (np.absolute(matrix) >= 10) & (np.absolute(matrix) <= 50)\n",
    "print(bool_idx_uneven_absrange)\n",
    "print()\n",
    "\n",
    "print(\"Нечетные или отрицательные:\")\n",
    "bool_idx_uneven_neg = (matrix % 2 != 0) | (matrix < 0)\n",
    "print(bool_idx_uneven_neg)\n",
    "print()\n"
   ]
  },
  {
   "cell_type": "markdown",
   "metadata": {},
   "source": [
    "Для краткости мы пропустили много деталей о индексации массива numpy; если вы хотите узнать больше, прочитайте документацию."
   ]
  },
  {
   "cell_type": "markdown",
   "metadata": {},
   "source": [
    "#### Изменение формы массивов"
   ]
  },
  {
   "cell_type": "markdown",
   "metadata": {},
   "source": [
    "Часто требуется изменить форму массива (количество размерностей и их емкость), не изменяя самих элементов массива. Для этого используется специальный метод `reshape`."
   ]
  },
  {
   "cell_type": "code",
   "execution_count": null,
   "metadata": {},
   "outputs": [],
   "source": [
    "grid = np.arange(1, 10).reshape((3, 3))\n",
    "print(grid)"
   ]
  },
  {
   "cell_type": "markdown",
   "metadata": {},
   "source": [
    "Другой часто используемый паттерн изменения формы — преобразование одномерного массива в двумерную матрицу-строку или матрицу-столбец. Для этого можно применить метод reshape, но лучше воспользоваться ключевым словом newaxis при выполнении операции среза:"
   ]
  },
  {
   "cell_type": "code",
   "execution_count": null,
   "metadata": {},
   "outputs": [],
   "source": [
    "x = np.array([1, 2, 3]) \n",
    "# Преобразование в вектор-строку с помощью reshape\n",
    "x.reshape((1, 3))"
   ]
  },
  {
   "cell_type": "code",
   "execution_count": null,
   "metadata": {},
   "outputs": [],
   "source": [
    "# Преобразование в вектор-строку посредством newaxis\n",
    "x[np.newaxis, :]"
   ]
  },
  {
   "cell_type": "code",
   "execution_count": null,
   "metadata": {},
   "outputs": [],
   "source": [
    "# Преобразование в вектор-столбец с помощью reshape\n",
    "x.reshape((3, 1))"
   ]
  },
  {
   "cell_type": "code",
   "execution_count": null,
   "metadata": {},
   "outputs": [],
   "source": [
    "# Преобразование в вектор-столбец посредством newaxis\n",
    "x[:, np.newaxis]"
   ]
  },
  {
   "cell_type": "markdown",
   "metadata": {},
   "source": [
    "#### Объединение массивов"
   ]
  },
  {
   "cell_type": "markdown",
   "metadata": {},
   "source": [
    "Для работы с массивами с различающимися измерениями удобно использовать функции `np.vstack` (вертикальное объединение) и `np.hstack` (горизонтальное объединение):\n"
   ]
  },
  {
   "cell_type": "code",
   "execution_count": null,
   "metadata": {},
   "outputs": [],
   "source": [
    " x = np.array([1, 2, 3])\n",
    "grid = np.array([[9, 8, 7],[6, 5, 4]])\n",
    "# Объединяет массивы по вертикали\n",
    "np.vstack([x, grid])"
   ]
  },
  {
   "cell_type": "code",
   "execution_count": null,
   "metadata": {},
   "outputs": [],
   "source": [
    "# Объединяет массивы по горизонтали\n",
    "y = np.array([[99],[99]])\n",
    "np.hstack([grid, y])\n"
   ]
  },
  {
   "cell_type": "markdown",
   "metadata": {},
   "source": [
    "Функция `np.dstack` аналогично объединяет массивы по третьей оси."
   ]
  },
  {
   "cell_type": "markdown",
   "metadata": {},
   "source": [
    "#### Разбиение массивов\n",
    "Противоположностью слияния является разбиение, выполняемое с помощью функций np.split, np.hsplit и np.vsplit. Каждой из них необходимо передавать список индексов, задающих точки раздела:"
   ]
  },
  {
   "cell_type": "code",
   "execution_count": null,
   "metadata": {},
   "outputs": [],
   "source": [
    "x = [1, 2, 3, 99, 99, 3, 2, 1]\n",
    "x1, x2, x3 = np.split(x, [3, 5])\n",
    "print(x1, x2, x3)"
   ]
  },
  {
   "cell_type": "markdown",
   "metadata": {},
   "source": [
    "Функции `np.hsplit` и `np.vsplit` действуют аналогично:"
   ]
  },
  {
   "cell_type": "code",
   "execution_count": null,
   "metadata": {},
   "outputs": [],
   "source": [
    "grid = np.arange(16).reshape((4, 4))\n",
    "grid"
   ]
  },
  {
   "cell_type": "code",
   "execution_count": null,
   "metadata": {},
   "outputs": [],
   "source": [
    "upper, lower = np.vsplit(grid, 2)\n",
    "print(upper)\n",
    "print(lower)"
   ]
  },
  {
   "cell_type": "code",
   "execution_count": null,
   "metadata": {},
   "outputs": [],
   "source": [
    "left, right = np.hsplit(grid, 2)\n",
    "print(left)\n",
    "print(right)"
   ]
  },
  {
   "cell_type": "markdown",
   "metadata": {},
   "source": [
    "##### <font color=red>Задание</font>\n",
    "Написать функцию, которая из исходного массива размером 8х8 получает (при помощи операций разбиения и объединения) массив, в котором переставлены квадранты 1-й с 3-м, 2-й с 4-м по сравнению с исходным массивом. Продемонстрировать работу функции все шаги алгоритма сопроводить подробными комментариями и отладочным выводом промежуточных результатов.\n",
    "\n",
    "Т.е. например из массива\n",
    "\n",
    "`[[49  5 49  1 28 27 31 35]\n",
    " [21 12 34  3 20  2 42 48]\n",
    " [21 22 39 23 28 31 47 34]\n",
    " [37  6 24 22 19 32 27 20]\n",
    " [12  0  1 40  2 30 42 47]\n",
    " [33 40 10  8 29 48 24  8]\n",
    " [14 49  8 46 23 18 10 49]\n",
    " [15 20 49 30  9 18 42  5]]`\n",
    " \n",
    "должен получиться массив \n",
    "\n",
    " `[[ 2 30 42 47 12  0  1 40]\n",
    " [29 48 24  8 33 40 10  8]\n",
    " [23 18 10 49 14 49  8 46]\n",
    " [ 9 18 42  5 15 20 49 30]\n",
    " [28 27 31 35 49  5 49  1]\n",
    " [20  2 42 48 21 12 34  3]\n",
    " [28 31 47 34 21 22 39 23]\n",
    " [19 32 27 20 37  6 24 22]]`"
   ]
  },
  {
   "cell_type": "code",
   "execution_count": null,
   "metadata": {},
   "outputs": [],
   "source": [
    "# Выполнение задания\n",
    "import numpy as np\n",
    "\n",
    "np.random.seed(0)\n",
    "matrix = np.array(np.random.randint(-100, 100, size=(8, 8)))\n",
    "print(\"Исходная матрица:\")\n",
    "print(matrix)\n",
    "print()\n",
    "\n",
    "# 1 2 -> 3 4\n",
    "# 4 3 -> 2 1\n",
    "\n",
    "quadrant_1 = np.vsplit(np.hsplit(matrix, 2)[0], 2)[0]\n",
    "quadrant_2 = np.vsplit(np.hsplit(matrix, 2)[1], 2)[0]\n",
    "quadrant_3 = np.vsplit(np.hsplit(matrix, 2)[1], 2)[1]\n",
    "quadrant_4 = np.vsplit(np.hsplit(matrix, 2)[0], 2)[1]\n",
    "\n",
    "quadrant_34 = np.hstack([quadrant_3, quadrant_4])\n",
    "quadrant_21 = np.hstack([quadrant_2, quadrant_1])\n",
    "newMatrix = np.vstack([quadrant_34, quadrant_21])\n",
    "\n",
    "print(\"Преобразованная матрица:\")\n",
    "print(newMatrix)\n",
    "print()\n"
   ]
  },
  {
   "cell_type": "markdown",
   "metadata": {},
   "source": [
    "#### Вычисления с массивами"
   ]
  },
  {
   "cell_type": "markdown",
   "metadata": {},
   "source": [
    "Основные математические функции работают поэлементно с массивами и доступны как в виде перегрузок операторов, так и как функций в модуле numpy:"
   ]
  },
  {
   "cell_type": "code",
   "execution_count": null,
   "metadata": {},
   "outputs": [],
   "source": [
    "x = np.array([[1,2],[3,4]], dtype=np.float64)\n",
    "y = np.array([[5,6],[7,8]], dtype=np.float64)\n",
    "\n",
    "# Elementwise sum; both produce the array\n",
    "print(x + y)\n",
    "print(np.add(x, y))"
   ]
  },
  {
   "cell_type": "code",
   "execution_count": null,
   "metadata": {},
   "outputs": [],
   "source": [
    "# Elementwise difference; both produce the array\n",
    "print(x - y)\n",
    "print(np.subtract(x, y))"
   ]
  },
  {
   "cell_type": "code",
   "execution_count": null,
   "metadata": {},
   "outputs": [],
   "source": [
    "# Elementwise product; both produce the array\n",
    "print(x * y)\n",
    "print(np.multiply(x, y))"
   ]
  },
  {
   "cell_type": "code",
   "execution_count": null,
   "metadata": {},
   "outputs": [],
   "source": [
    "# Elementwise division; both produce the array\n",
    "# [[ 0.2         0.33333333]\n",
    "#  [ 0.42857143  0.5       ]]\n",
    "print(x / y)\n",
    "print(np.divide(x, y))"
   ]
  },
  {
   "cell_type": "code",
   "execution_count": null,
   "metadata": {},
   "outputs": [],
   "source": [
    "# Elementwise square root; produces the array\n",
    "# [[ 1.          1.41421356]\n",
    "#  [ 1.73205081  2.        ]]\n",
    "print(np.sqrt(x))"
   ]
  },
  {
   "cell_type": "markdown",
   "metadata": {},
   "source": [
    "Обратите внимание, что в отличие от MATLAB, * является поэлементным умножением, а не матричным умножением. Вместо этого мы используем функцию точки для вычисления скалярных произведений векторов, умножения вектора на матрицу и умножения матриц. точка доступна как функция в модуле numpy, так и как метод экземпляра объектов массива:"
   ]
  },
  {
   "cell_type": "code",
   "execution_count": null,
   "metadata": {},
   "outputs": [],
   "source": [
    "x = np.array([[1,2],[3,4]])\n",
    "y = np.array([[5,6],[7,8]])\n",
    "\n",
    "v = np.array([9,10])\n",
    "w = np.array([11, 12])\n",
    "\n",
    "# Inner product of vectors; both produce 219\n",
    "print(v.dot(w))\n",
    "print(np.dot(v, w))"
   ]
  },
  {
   "cell_type": "code",
   "execution_count": null,
   "metadata": {},
   "outputs": [],
   "source": [
    "# Matrix / vector product; both produce the rank 1 array [29 67]\n",
    "print(x.dot(v))\n",
    "print(np.dot(x, v))"
   ]
  },
  {
   "cell_type": "code",
   "execution_count": null,
   "metadata": {},
   "outputs": [],
   "source": [
    "# Matrix / matrix product; both produce the rank 2 array\n",
    "# [[19 22]\n",
    "#  [43 50]]\n",
    "print(x.dot(y))\n",
    "print(np.dot(x, y))"
   ]
  },
  {
   "cell_type": "markdown",
   "metadata": {},
   "source": [
    "Numpy предоставляет множество полезных функций для выполнения вычислений с массивами; одна из самых полезных - это `sum`:"
   ]
  },
  {
   "cell_type": "code",
   "execution_count": null,
   "metadata": {},
   "outputs": [],
   "source": [
    "x = np.array([[1,2],[3,4]])\n",
    "\n",
    "print(np.sum(x))  # Compute sum of all elements; prints \"10\"\n",
    "print(np.sum(x, axis=0))  # Compute sum of each column; prints \"[4 6]\"\n",
    "print(np.sum(x, axis=1))  # Compute sum of each row; prints \"[3 7]\""
   ]
  },
  {
   "cell_type": "markdown",
   "metadata": {},
   "source": [
    "Полный список математических функций, предоставляемых numpy, содержится в [документации](http://docs.scipy.org/doc/numpy/reference/routines.math.html).\n",
    "\n",
    "Помимо вычисления математических функций с использованием массивов, нам часто приходится изменять форму масива или иным образом манипулировать данными в массивах. Простейшим примером такой операции является транспонирование матрицы; для транспонирования матрицы просто используйте атрибут T объекта массива:"
   ]
  },
  {
   "cell_type": "code",
   "execution_count": null,
   "metadata": {},
   "outputs": [],
   "source": [
    "print(x)\n",
    "print(x.T)"
   ]
  },
  {
   "cell_type": "code",
   "execution_count": null,
   "metadata": {},
   "outputs": [],
   "source": [
    "v = np.array([1,2,3])\n",
    "print(v) \n",
    "print(v.T)"
   ]
  },
  {
   "cell_type": "markdown",
   "metadata": {},
   "source": [
    "#### Трансляция"
   ]
  },
  {
   "cell_type": "markdown",
   "metadata": {},
   "source": [
    "Трансляция - мощный механизм, позволяющий numpy работать с массивами разных форм при выполнении арифметических операций. Часто мы имеем меньший массив и больший массив, и мы хотим использовать меньший массив несколько раз, чтобы выполнить некоторую операцию над большим массивом.\n",
    "\n",
    "Например, предположим, что мы хотим добавить постоянный вектор в каждую строку матрицы. Мы могли бы сделать это следующим образом:"
   ]
  },
  {
   "cell_type": "code",
   "execution_count": null,
   "metadata": {},
   "outputs": [],
   "source": [
    "# We will add the vector v to each row of the matrix x,\n",
    "# storing the result in the matrix y\n",
    "x = np.array([[1,2,3], [4,5,6], [7,8,9], [10, 11, 12]])\n",
    "v = np.array([1, 0, 1])\n",
    "y = np.empty_like(x)   # Create an empty matrix with the same shape as x\n",
    "\n",
    "# Add the vector v to each row of the matrix x with an explicit loop\n",
    "for i in range(4):\n",
    "    y[i, :] = x[i, :] + v\n",
    "\n",
    "print(y)"
   ]
  },
  {
   "cell_type": "markdown",
   "metadata": {},
   "source": [
    "Это работает; однако, когда матрица x очень велика, вычисление явного цикла в Python может быть медленным. Заметим, что добавление вектора v в каждую строку матрицы x эквивалентно формированию матрицы vv путем стыковки нескольких копий v по вертикали, а затем выполнения поэлементного суммирования x и vv. Мы могли бы реализовать этот подход следующим образом:"
   ]
  },
  {
   "cell_type": "code",
   "execution_count": null,
   "metadata": {},
   "outputs": [],
   "source": [
    "vv = np.tile(v, (4, 1))  # Stack 4 copies of v on top of each other\n",
    "print(vv)                 # Prints \"[[1 0 1]\n",
    "                         #          [1 0 1]\n",
    "                         #          [1 0 1]\n",
    "                         #          [1 0 1]]\""
   ]
  },
  {
   "cell_type": "code",
   "execution_count": null,
   "metadata": {},
   "outputs": [],
   "source": [
    "y = x + vv  # Add x and vv elementwise\n",
    "print(y)"
   ]
  },
  {
   "cell_type": "markdown",
   "metadata": {},
   "source": [
    "Трансляция позволяет нам выполнять это вычисление без фактического создания нескольких копий v. Рассмотрим этот вариант, использующий трансляцию:"
   ]
  },
  {
   "cell_type": "code",
   "execution_count": null,
   "metadata": {},
   "outputs": [],
   "source": [
    "import numpy as np\n",
    "\n",
    "# We will add the vector v to each row of the matrix x,\n",
    "# storing the result in the matrix y\n",
    "x = np.array([[1,2,3], [4,5,6], [7,8,9], [10, 11, 12]])\n",
    "v = np.array([1, 0, 1])\n",
    "y = x + v  # Add v to each row of x using broadcasting\n",
    "print(y)"
   ]
  },
  {
   "cell_type": "markdown",
   "metadata": {},
   "source": [
    "Строка `y = x + v` работает, даже если` x` имеет форму `(4, 3)` и `v` имеет форму` (3,) `из-за широковещания; эта строка работает так, как если бы v фактически имела форму `(4, 3)`, где каждая строка была копией `v`, а сумма выполнялась поэлементно.\n",
    "\n",
    "**Трансляция** двух массивов выполняется в соответствии с правилами:\n",
    "\n",
    "1. Если массивы не одного ранга, к форме массива меньшего ранга добавляется одно измерение слева до тех пор, пока формы массивов не будут иметь одинаковую длину.\n",
    "2. Два массива, как говорят, совместимы в некотором измерении, если они имеют одинаковый размер в этом измерении, или если один из массивов имеет размер 1 в этом измерении.\n",
    "3. Массивы могут транслироваться друг с другом, если они совместимы во всех измерениях.\n",
    "4. После трансляции каждый массив ведет себя так, как если бы он имел форму, равную поэлементному максимуму форм двух входных массивов.\n",
    "5. В любом измерении, где один массив имел размер 1, а другой массив имел размер больше 1, первый массив ведет себя так, как если бы он был скопирован вдоль этого измерения.\n",
    "\n",
    "В книге `Python Data Science Handbook: Essential Tools for Working with Data` под авторством `Jake VanderPlas` трансляция массивов описывается тремя правилами:\n",
    "1. Если размерность двух массивов отличается, форма массива с меньшей размерностью дополняется единицами с ведущей (левой) стороны.\n",
    "2. Если форма двух массивов не совпадает в каком-то измерении, массив с формой, равной 1 в данном измерении, растягивается вплоть до соответствия форме другого массива.\n",
    "3. Если в каком-либо измерении размеры массивов различаются и ни один не равен 1, генерируется ошибка.\n",
    "\n",
    "Если это объяснение непонятно, попробуйте прочитать объяснение из [документации](http://docs.scipy.org/doc/numpy/user/basics.broadcasting.html) или этого [объяснения](http: // wiki.scipy.org/EricsBroadcastingDoc).\n",
    "\n",
    "Вот некоторые примеры использования трансляции:"
   ]
  },
  {
   "cell_type": "code",
   "execution_count": null,
   "metadata": {},
   "outputs": [],
   "source": [
    "# Compute outer product of vectors\n",
    "v = np.array([1,2,3])  # v has shape (3,)\n",
    "w = np.array([4,5])    # w has shape (2,)\n",
    "# To compute an outer product, we first reshape v to be a column\n",
    "# vector of shape (3, 1); we can then broadcast it against w to yield\n",
    "# an output of shape (3, 2), which is the outer product of v and w:\n",
    "\n",
    "print(np.reshape(v, (3, 1)) * w)"
   ]
  },
  {
   "cell_type": "code",
   "execution_count": null,
   "metadata": {},
   "outputs": [],
   "source": [
    "# Add a vector to each row of a matrix\n",
    "x = np.array([[1,2,3], [4,5,6]])\n",
    "# x has shape (2, 3) and v has shape (3,) so they broadcast to (2, 3),\n",
    "# giving the following matrix:\n",
    "\n",
    "print(x + v)"
   ]
  },
  {
   "cell_type": "code",
   "execution_count": null,
   "metadata": {},
   "outputs": [],
   "source": [
    "# Add a vector to each column of a matrix\n",
    "# x has shape (2, 3) and w has shape (2,).\n",
    "# If we transpose x then it has shape (3, 2) and can be broadcast\n",
    "# against w to yield a result of shape (3, 2); transposing this result\n",
    "# yields the final result of shape (2, 3) which is the matrix x with\n",
    "# the vector w added to each column. Gives the following matrix:\n",
    "\n",
    "print((x.T + w).T)"
   ]
  },
  {
   "cell_type": "code",
   "execution_count": null,
   "metadata": {},
   "outputs": [],
   "source": [
    "# Another solution is to reshape w to be a row vector of shape (2, 1);\n",
    "# we can then broadcast it directly against x to produce the same\n",
    "# output.\n",
    "print(x + np.reshape(w, (2, 1)))"
   ]
  },
  {
   "cell_type": "code",
   "execution_count": null,
   "metadata": {},
   "outputs": [],
   "source": [
    "# Multiply a matrix by a constant:\n",
    "# x has shape (2, 3). Numpy treats scalars as arrays of shape ();\n",
    "# these can be broadcast together to shape (2, 3), producing the\n",
    "# following array:\n",
    "print(x * 2)"
   ]
  },
  {
   "cell_type": "markdown",
   "metadata": {},
   "source": [
    "Трансляция обычно делает ваш код более кратким и быстрым, поэтому вы должны стремиться использовать его там, где это возможно."
   ]
  },
  {
   "cell_type": "markdown",
   "metadata": {},
   "source": [
    "##### Трансляция. Пример 1.\n",
    "\n",
    "Рассмотрим сложение двумерного массива с одномерным:\n",
    "``` \n",
    "M = np.ones((2, 3))\n",
    "a = np.arange(3)\n",
    "```\n",
    "Рассмотрим эту операцию подробнее. Формы массивов следующие:\n",
    "```\n",
    "M.shape = (2, 3)\n",
    "a.shape = (3,)\n",
    "```\n",
    "По правилу 1, поскольку размерность массива a меньше, мы дополняем его из-\n",
    "мерениями слева:\n",
    "```\n",
    "M.shape -> (2, 3)\n",
    "a.shape -> (1, 3)\n",
    "```\n",
    "По правилу 2 мы видим, что первое измерение массивов различается, так что мы \n",
    "растягиваем его вплоть до совпадения:\n",
    "```\n",
    "M.shape -> (2, 3)\n",
    "a.shape -> (2, 3)\n",
    "```\n",
    "Формы совпадают, и мы видим, что итоговая форма будет (2, 3). Проверим:"
   ]
  },
  {
   "cell_type": "code",
   "execution_count": null,
   "metadata": {},
   "outputs": [],
   "source": [
    "M = np.ones((2, 3))\n",
    "a = np.arange(3)\n",
    "M+a"
   ]
  },
  {
   "cell_type": "markdown",
   "metadata": {},
   "source": [
    "##### Транслирование. Пример 2\n",
    "Рассмотрим пример, в котором необходимо транслировать оба массива:\n",
    "```\n",
    "a = np.arange(3).reshape((3, 1))\n",
    "b = np.arange(3)\n",
    "```\n",
    "Начнем с записи формы наших массивов:\n",
    "```\n",
    "a.shape = (3, 1)\n",
    "b.shape = (3,)\n",
    "```\n",
    "Правило 1 гласит, что мы должны дополнить форму массива b единицами:\n",
    "```\n",
    "a.shape -> (3, 1)\n",
    "b.shape -> (1, 3)\n",
    "```\n",
    "Правило 2 говорит, что нужно увеличивать эти единицы вплоть до совпадения \n",
    "с размером другого массива:\n",
    "```\n",
    "a.shape -> (3, 3)\n",
    "b.shape -> (3, 3)\n",
    "```\n",
    "Поскольку результаты совпадают, формы совместимы. Получаем:\n"
   ]
  },
  {
   "cell_type": "code",
   "execution_count": null,
   "metadata": {},
   "outputs": [],
   "source": [
    "a = np.arange(3).reshape((3, 1))\n",
    "b = np.arange(3)\n",
    "a+b"
   ]
  },
  {
   "cell_type": "markdown",
   "metadata": {},
   "source": [
    "##### Транслирование. Пример 3\n",
    "Рассмотрим пример, в котором два массива несовместимы:\n",
    "```\n",
    "M = np.ones((3, 2))\n",
    "a = np.arange(3)\n",
    "```\n",
    "Эта ситуация лишь немного отличается от примера 1: матрица M транспонирована. Какое же влияние это окажет на вычисления? Формы массивов следующие:\n",
    "```\n",
    "M.shape = (3, 2)\n",
    "a.shape = (3,)\n",
    "```\n",
    "Правило 1 требует от нас дополнить форму массива a единицами:\n",
    "```\n",
    "M.shape -> (3, 2)\n",
    "a.shape -> (1, 3)\n",
    "```\n",
    "Согласно правилу 2 первое измерение массива a растягивается, чтобы соответствовать таковому массива M:\n",
    "```\n",
    "M.shape -> (3, 2)\n",
    "a.shape -> (3, 3)\n",
    "```\n",
    "Теперь вступает в действие правило 3 — итоговые формы не совпадают, так что массивы несовместимы, что мы и видим, попытавшись выполнить данную операцию:"
   ]
  },
  {
   "cell_type": "code",
   "execution_count": null,
   "metadata": {},
   "outputs": [],
   "source": [
    "M = np.ones((3, 2))\n",
    "a = np.arange(3)\n",
    "M+a"
   ]
  },
  {
   "cell_type": "markdown",
   "metadata": {},
   "source": [
    "Обратите внимание на имеющийся потенциальный источник ошибки: можно было бы сделать массивы a и M совместимыми, скажем путем дополнения формы a единицами справа, а не слева. Но правила транслирования работают не так! \n",
    "Если вам хочется применить правостороннее дополнение, можете сделать это явным образом, поменяв форму массива. Для этого воспользуемся ключевым словом `np.newaxis`:"
   ]
  },
  {
   "cell_type": "code",
   "execution_count": null,
   "metadata": {},
   "outputs": [],
   "source": [
    "a[:, np.newaxis].shape"
   ]
  },
  {
   "cell_type": "code",
   "execution_count": null,
   "metadata": {},
   "outputs": [],
   "source": [
    "M + a[:, np.newaxis]"
   ]
  },
  {
   "cell_type": "markdown",
   "metadata": {},
   "source": [
    "Этом краткий обзор затронул многие важные вещи, которые вам нужно знать о numpy, но далеко не все. Смотрите [документацию по numpy](http://docs.scipy.org/doc/numpy/reference/), чтобы узнать больше о numpy."
   ]
  },
  {
   "cell_type": "markdown",
   "metadata": {},
   "source": [
    "##### <font color=red>Задание</font>\n",
    "Возможна ли совместная трансляция массивов с формами:\n",
    "1. (100,100,4) и (3) ?\n",
    "2. (15,1,6,5) и (7,1,5) ?\n",
    "3. (12,3,8) и (3,1) ?\n",
    "4. (10,4,1,6) и (3,1,6) ?\n",
    "5. (10,1) и (1,10,3) ?\n",
    "\n",
    "Дать подробные ответы (аналогично примерам, приведенным выше) со ссылками на правила трансляции и сопроводить примерами с вычислениями и комментариями."
   ]
  },
  {
   "cell_type": "code",
   "execution_count": null,
   "metadata": {},
   "outputs": [],
   "source": [
    "# Выполнение задания.\n",
    "np.random.seed(0)\n",
    "# Нет\n",
    "# (3,) -> (1, 1, 3) -> (100, 100, 3)\n",
    "#                      (100, 100, 4)\n",
    "# 3 != 4 -> нельзя\n",
    "matrix = np.array(np.random.randint(100, size=(100, 100, 4)))\n",
    "arr = np.arange(3)\n",
    "print(matrix + arr)\n",
    "\n",
    "# Да\n",
    "# (7, 1, 5) -> (1, 7, 1, 5)  -> (15, 7, 6, 5)\n",
    "#              (15, 1, 6, 5) -> (15, 7, 6, 5)\n",
    "matrix1 = np.array(np.random.randint(100, size=(15, 1, 6, 5)))\n",
    "matrix2 = np.array(np.random.randint(100, size=(7, 1, 5)))\n",
    "print(matrix1 + matrix2)\n",
    "\n",
    "# Да\n",
    "# (3, 1) -> (1, 3, 1) -> (12, 3, 18)\n",
    "#                        (12, 3, 18)\n",
    "matrix1 = np.array(np.random.randint(100, size=(12, 3, 18)))\n",
    "matrix2 = np.array(np.random.randint(100, size=(3, 1)))\n",
    "print(matrix1 + matrix2)\n",
    "\n",
    "# Нет\n",
    "# (3, 1, 6) -> (1, 3, 1, 6) -> (10, 3, 1, 6)\n",
    "#                              (10, 4, 1, 6)\n",
    "# 3 != 4 -> нельзя\n",
    "matrix1 = np.array(np.random.randint(100, size=(10, 4, 1, 6)))\n",
    "matrix2 = np.array(np.random.randint(100, size=(3, 1, 6)))\n",
    "print(matrix1 + matrix2)\n",
    "\n",
    "# Да\n",
    "# (3, 1) -> (1, 3, 1) -> (12, 3, 18)\n",
    "#                        (12, 3, 18)\n",
    "matrix1 = np.array(np.random.randint(100, size=(12, 3, 18)))\n",
    "matrix2 = np.array(np.random.randint(100, size=(3, 1)))\n",
    "print(matrix1 + matrix2)"
   ]
  },
  {
   "cell_type": "markdown",
   "metadata": {},
   "source": [
    "#### Универсальные функции"
   ]
  },
  {
   "cell_type": "markdown",
   "metadata": {},
   "source": [
    "Функции, поддерживающие трансляцию, известны как **универсальные функции**. Вы можете найти список всех универсальных функций в [документации](http://docs.scipy.org/doc/numpy/reference/ufuncs.html#available-ufuncs)."
   ]
  },
  {
   "cell_type": "markdown",
   "metadata": {},
   "source": [
    "**<font color=orange>Вычисления с применением векторизации посредством универсальных функций практически всегда более эффективны, чем их эквиваленты, реализованные с помощью циклов Python, особенно при росте размера массивов.</font>**"
   ]
  },
  {
   "cell_type": "markdown",
   "metadata": {},
   "source": [
    "* Арифметические функции над массивами"
   ]
  },
  {
   "cell_type": "code",
   "execution_count": null,
   "metadata": {},
   "outputs": [],
   "source": [
    " x = np.arange(4)\n",
    "print(\"x     =\", x)\n",
    "print(\"x + 5 =\", x + 5)\n",
    "print(\"x - 5 =\", x - 5)\n",
    "print(\"x * 2 =\", x * 2)\n",
    "print(\"x / 2 =\", x / 2)\n",
    "print(\"x // 2 =\", x // 2)  # деление с округлением в меньшую сторону\n",
    "print(\"-x     = \", -x)\n",
    "print(\"x ** 2 = \", x ** 2)\n",
    "print(\"x % 2  = \", x % 2)"
   ]
  },
  {
   "cell_type": "markdown",
   "metadata": {},
   "source": [
    "Дополнительно эти операции можно комбинировать любыми способами с соблюдением стандартного приоритета выполнения операций:\n"
   ]
  },
  {
   "cell_type": "code",
   "execution_count": null,
   "metadata": {},
   "outputs": [],
   "source": [
    "-(0.5*x + 1) ** 2"
   ]
  },
  {
   "cell_type": "markdown",
   "metadata": {},
   "source": [
    "* Абсолютное значение."
   ]
  },
  {
   "cell_type": "markdown",
   "metadata": {},
   "source": [
    "Используется универсальная функция библиотеки NumPy — `np.absolute`, доступная также под псевдонимом `np.abs`:"
   ]
  },
  {
   "cell_type": "code",
   "execution_count": null,
   "metadata": {},
   "outputs": [],
   "source": [
    "np.absolute(x)"
   ]
  },
  {
   "cell_type": "code",
   "execution_count": null,
   "metadata": {},
   "outputs": [],
   "source": [
    "np.abs(x)"
   ]
  },
  {
   "cell_type": "code",
   "execution_count": null,
   "metadata": {},
   "outputs": [],
   "source": [
    "x = np.array([3 - 4j, 4 - 3j, 2 + 0j, 0 + 1j])\n",
    "np.abs(x)"
   ]
  },
  {
   "cell_type": "markdown",
   "metadata": {},
   "source": [
    "#### Указание массива для вывода результата\n",
    "При больших вычислениях удобно задать массив, в котором будет сохранен результат вычисления. Вместо того чтобы создавать временный массив, можно воспользоваться этой возможностью для записи результатов вычислений непосредственно \n",
    "в нужное вам место памяти. Сделать это для любой универсальной функции можно с помощью аргумента out:"
   ]
  },
  {
   "cell_type": "code",
   "execution_count": null,
   "metadata": {},
   "outputs": [],
   "source": [
    "x = np.arange(5)\n",
    "y = np.empty(5)\n",
    "np.multiply(x, 10, out=y)\n",
    "print(y)"
   ]
  },
  {
   "cell_type": "markdown",
   "metadata": {},
   "source": [
    "Эту возможность можно использовать даже вместе с представлениями массивов. Например, можно записать результаты вычислений в каждый второй элемент заданного массива:"
   ]
  },
  {
   "cell_type": "code",
   "execution_count": null,
   "metadata": {},
   "outputs": [],
   "source": [
    "y = np.zeros(10)\n",
    "np.power(2, x, out=y[::2])\n",
    "print(y)"
   ]
  },
  {
   "cell_type": "markdown",
   "metadata": {},
   "source": [
    "Если бы мы вместо этого написали `y[::2] = 2 ** x`, был бы создан временный массив для хранения результатов операции `2 ** x` с последующим копированием этих значений в массив y. Для столь незначительных объемов вычислений особой разницы нет, но для очень больших массивов экономия памяти за счет аккуратного использования аргумента out может оказаться значительной."
   ]
  },
  {
   "cell_type": "markdown",
   "metadata": {},
   "source": [
    "##### <font color=red>Задание</font>\n",
    "Создать класс наследник от класса учета рейтинга студентов (**StudentsRaiting**) и расширить его методами рассчета статистики по предметам (средний балл, максимальный балл, минимальный балл). Для этого нужно преобразовать данные об оценках из словаря в массив и использовать функции библиотеки Numpy.\n",
    "\n",
    "Примечание: Использовать универсальные функции для работы с массивами numpy."
   ]
  },
  {
   "cell_type": "code",
   "execution_count": null,
   "metadata": {},
   "outputs": [],
   "source": [
    "# Выполнение задания\n",
    "import numpy as np\n",
    "\n",
    "class ImprovedStudentsRating(StudentsRating):\n",
    "\n",
    "    def __init__(self, studentsToGrade):\n",
    "        super(ImprovedStudentsRating, self).__init__(studentsToGrade)\n",
    "        self.Grades = np.array(list(studentsToGrade.values()))\n",
    "\n",
    "    def average(self):\n",
    "        return np.mean(self.Grades, axis=0)\n",
    "\n",
    "    def min(self):\n",
    "        return np.min(self.Grades, axis=0)\n",
    "\n",
    "    def max(self):\n",
    "        return np.max(self.Grades, axis=0)\n",
    "\n",
    "\n",
    "students = {\"Иванов Петр Николавич\": (3, 3, 5, 4), \"Петров Иван Константинович\": (5, 4, 5, 4), \"Сидоров Емельян Егорович\": (4, 3, 4, 5)}\n",
    "isr = ImprovedStudentsRating(students)\n",
    "print(isr)\n",
    "\n",
    "print(isr.average())\n",
    "print(isr.min())\n",
    "print(isr.max())\n"
   ]
  },
  {
   "cell_type": "markdown",
   "metadata": {},
   "source": [
    "##### <font color=red>Задание</font>\n",
    "0. Создать функцию `Function1(x)`, возвращающую вектор `y`, размер которого равен размеру вектора `x` и выполняющую поэлементное вычисление по формуле `y=1/(1+exp(-x)`. Создать функцию `Function2(x)`, возвращающую вектор `y`, размер которого равен размеру вектора `x` и выполняющую поэлементное вычисление по формуле `y=max(0,x)`.\n",
    "1. Написать функцию `LinearTransform(M,x,b)`, где `M` - матрица, `x` - вектор, `b` - число. Функция должна ввозвращать вектор `y`, размер которого равен размеру вектора `x`, где `y` рассчитывается по формуле `y=M*x+b`, здесь под операцией `*` понимается операция скалярного произведения (dot product) матрицы на вектор.\n",
    "2. Написать функцию `Transform(M1,M2,x,b1,b2)`, где `M1`,`M2` - матрицы, `x` - вектор, `b1`,`b2` - числа. Функция должна ввозвращать вектор `y`, размер которого равен размеру вектора `x`, где `y` рассчитывается по формуле `y=Function2(LinearTransform(M2,x2,b2))`, а `x2=Function1(LinearTransform(M1,x,b1))`.\n",
    "3. Задать матрицы M1,M2 размером MxN, вектор размером N, и числа b1,b2 и выполнить вычисления `Transform(M1,M2,x,b1,b2)`, производя замеры времени выполнения функции. **Значения M и N нужно узнать у преподавателя.** \n",
    "\n",
    "Все функции задания нужно реализовать в двух вариантах: \n",
    "* с использованием универсальных векторизованных операций;\n",
    "* с использованием циклов для вычислений.\n",
    "\n",
    "Сравнить время выполнения для обеих реализаций и сделать выводы."
   ]
  },
  {
   "cell_type": "code",
   "execution_count": null,
   "metadata": {},
   "outputs": [],
   "source": [
    "#Выполнение задания\n",
    "import numpy as np\n",
    "import math as m\n",
    "import time as tm\n",
    "\n",
    "\n",
    "def Function1(vector):\n",
    "    return 1 / (1 + np.exp(-vector))\n",
    "\n",
    "\n",
    "def Function1S(vector):\n",
    "    return np.array([1 / (1 + m.exp(-x)) for x in vector])\n",
    "\n",
    "\n",
    "def Function2(vector):\n",
    "    return np.maximum(vector, np.zeros_like(x))\n",
    "\n",
    "\n",
    "def Function2S(vector):\n",
    "    return np.array([max(0, x) for x in vector])\n",
    "\n",
    "\n",
    "def LinearTransform(M, x, b):\n",
    "    return np.dot(M, x) + b\n",
    "\n",
    "\n",
    "def LinearTransformS(M, x, b):\n",
    "    return np.array([sum([j * y for j, y in zip(i, x)]) + b for i in M])\n",
    "\n",
    "\n",
    "def Transform(M1, M2, x, b1, b2):\n",
    "    # Здесь M2 нужно транспонировать, иначе проблемы с размерностью\n",
    "    return Function2(LinearTransform(M2.T, Function1(LinearTransform(M1, x, b1)), b2))\n",
    "\n",
    "\n",
    "def TransformS(M1, M2, x, b1, b2):\n",
    "    # Здесь M2 нужно транспонировать, иначе проблемы с размерностью\n",
    "    return Function2S(LinearTransformS(M2.T, Function1S(LinearTransformS(M1, x, b1)), b2))\n",
    "\n",
    "\n",
    "np.random.seed(0)\n",
    "M1 = np.random.randint(0, 5, size=[10000, 10000])\n",
    "M2 = np.random.randint(0, 5, size=[10000, 10000])\n",
    "x = np.array(np.random.randint(0, 5, size=10000))\n",
    "b1 = 1\n",
    "b2 = 2\n",
    "\n",
    "\n",
    "print(\"Function1, numpy: \")\n",
    "start_time = tm.time()\n",
    "Function1(x)\n",
    "end_time = tm.time()\n",
    "print(\"--- %s seconds ---\" % (end_time - start_time))\n",
    "%timeit Function1(x)\n",
    "\n",
    "print(\"Function1S, vanilla python: \")\n",
    "start_time = tm.time()\n",
    "Function1S(x)\n",
    "end_time = tm.time()\n",
    "print(\"--- %s seconds ---\" % (end_time - start_time))\n",
    "%timeit Function1S(x)\n",
    "\n",
    "\n",
    "print(\"Function2, numpy: \")\n",
    "start_time = tm.time()\n",
    "Function2(x)\n",
    "end_time = tm.time()\n",
    "print(\"--- %s seconds ---\" % (end_time - start_time))\n",
    "%timeit Function2(x)\n",
    "\n",
    "print(\"Function2S, vanilla python: \")\n",
    "start_time = tm.time()\n",
    "Function2S(x)\n",
    "end_time = tm.time()\n",
    "print(\"--- %s seconds ---\" % (end_time - start_time))\n",
    "%timeit Function2S(x)\n",
    "\n",
    "\n",
    "print(\"LinearTransform, numpy: \")\n",
    "start_time = tm.time()\n",
    "LinearTransform(M1, x, b1)\n",
    "end_time = tm.time()\n",
    "print(\"--- %s seconds ---\" % (end_time - start_time))\n",
    "%timeit LinearTransform(M1, x, b1)\n",
    "\n",
    "print(\"LinearTransformS, vanilla python: \")\n",
    "start_time = tm.time()\n",
    "LinearTransformS(M1, x, b1)\n",
    "end_time = tm.time()\n",
    "print(\"--- %s seconds ---\" % (end_time - start_time))\n",
    "%timeit LinearTransformS(M1, x, b1)\n",
    "\n",
    "\n",
    "M1 = np.random.randint(0, 3, size=[10000, 7000])\n",
    "M2 = np.random.randint(0, 5, size=[10000, 7000])\n",
    "x = np.array(np.random.randint(0, 5, size=7000))\n",
    "\n",
    "\n",
    "print(\"Transform, numpy: \")\n",
    "start_time = tm.time()\n",
    "Transform(M1, M2, x, b1, b2)\n",
    "end_time = tm.time()\n",
    "print(\"--- %s seconds ---\" % (end_time - start_time))\n",
    "%timeit Transform(M1, M2, x, b1, b2)\n",
    "\n",
    "print(\"TransformS, vanilla python: \")\n",
    "start_time = tm.time()\n",
    "TransformS(M1, M2, x, b1, b2)\n",
    "end_time = tm.time()\n",
    "print(\"--- %s seconds ---\" % (end_time - start_time))\n",
    "%timeit TransformS(M1, M2, x, b1, b2)\n"
   ]
  },
  {
   "cell_type": "markdown",
   "metadata": {},
   "source": [
    "### Matplotlib"
   ]
  },
  {
   "cell_type": "markdown",
   "metadata": {},
   "source": [
    "Matplotlib - это графическая библиотека. В этом разделе дается краткое введение в модуль matplotlib.pyplot, который предоставляет систему построения графиков, аналогичную системе MATLAB."
   ]
  },
  {
   "cell_type": "code",
   "execution_count": null,
   "metadata": {},
   "outputs": [],
   "source": [
    "import matplotlib.pyplot as plt"
   ]
  },
  {
   "cell_type": "code",
   "execution_count": null,
   "metadata": {},
   "outputs": [],
   "source": [
    "import numpy as np"
   ]
  },
  {
   "cell_type": "markdown",
   "metadata": {},
   "source": [
    "Запустив эту специальную команду iPython,графики будут встроены в документ:"
   ]
  },
  {
   "cell_type": "code",
   "execution_count": null,
   "metadata": {},
   "outputs": [],
   "source": [
    "%matplotlib inline"
   ]
  },
  {
   "cell_type": "markdown",
   "metadata": {},
   "source": [
    "#### Графики"
   ]
  },
  {
   "cell_type": "markdown",
   "metadata": {},
   "source": [
    "Самая важная функция в `matplotlib` - это `plot`, которая позволяет вам строить графики для двумерных данные. Вот простой пример:"
   ]
  },
  {
   "cell_type": "code",
   "execution_count": null,
   "metadata": {},
   "outputs": [],
   "source": [
    "# Compute the x and y coordinates for points on a sine curve\n",
    "x = np.arange(0, 3 * np.pi, 0.1)\n",
    "y = np.sin(x)\n",
    "\n",
    "# Plot the points using matplotlib\n",
    "plt.plot(x, y)"
   ]
  },
  {
   "cell_type": "markdown",
   "metadata": {},
   "source": [
    "Немного усложнив пример мы можем легко построить несколько строк одновременно и добавить метки заголовка, легенды и оси:"
   ]
  },
  {
   "cell_type": "code",
   "execution_count": null,
   "metadata": {},
   "outputs": [],
   "source": [
    "y_sin = np.sin(x)\n",
    "y_cos = np.cos(x)\n",
    "\n",
    "# Plot the points using matplotlib\n",
    "plt.plot(x, y_sin)\n",
    "plt.plot(x, y_cos)\n",
    "plt.xlabel('x axis label')\n",
    "plt.ylabel('y axis label')\n",
    "plt.title('Sine and Cosine')\n",
    "plt.legend(['Sine', 'Cosine'])"
   ]
  },
  {
   "cell_type": "markdown",
   "metadata": {},
   "source": [
    "#### <font color=red>Задание</font>\n",
    "Построить графики функций: $y=\\sin(x)$,$y=\\cos(x)$, $y=tg(x)$, $y=ctg(x)$. \n",
    "Требования к графикам:\n",
    "- все графики в одной системе координат\n",
    "- значения по оси x должны меняться от $-\\pi$ до $\\pi$.\n",
    "- подписи по осям координат \n",
    "- название графика\n",
    "- координатная сетка\n",
    "- легенда."
   ]
  },
  {
   "cell_type": "code",
   "execution_count": null,
   "metadata": {},
   "outputs": [],
   "source": [
    "# Выполнение задания.\n",
    "import matplotlib.pyplot as plt\n",
    "import numpy as np\n",
    "\n",
    "%matplotlib inline\n",
    "\n",
    "x = np.arange(-np.pi, np.pi, 0.1)\n",
    "y_sin = np.sin(x)\n",
    "y_cos = np.cos(x)\n",
    "y_tan = np.tan(x)\n",
    "y_cotan = 1 / y_tan\n",
    "\n",
    "plt.plot(x, y_sin)\n",
    "plt.plot(x, y_cos)\n",
    "plt.plot(x, y_tan)\n",
    "plt.plot(x, y_cotan)\n",
    "plt.grid(color='b', linestyle='-.', linewidth=0.25)\n",
    "plt.xlabel('x axis label')\n",
    "plt.ylabel('y axis label')\n",
    "plt.title('Sine, Cosine, Tangent and Cotangent')\n",
    "plt.legend(['Sine', 'Cosine', 'Tangent', 'Cotangent'])\n",
    "\n",
    "# Из-за того, что тангенс и котангенс имеют точки разрыва 2 порядка в -pi/2, pi/2 и -pi, 0, pi соответственно,\n",
    "# график не репрезентативен, поэтому можно взять другой отрезок x\n"
   ]
  },
  {
   "cell_type": "code",
   "execution_count": null,
   "metadata": {},
   "outputs": [],
   "source": [
    "import matplotlib.pyplot as plt\n",
    "import numpy as np\n",
    "\n",
    "%matplotlib inline\n",
    "\n",
    "# График тангенса, -5 * pi / 12 <= x <= 5 * pi / 12\n",
    "\n",
    "x_tan = np.arange(-5*np.pi/12, 5*np.pi/12, 0.1)\n",
    "y_tan = np.tan(x_tan)\n",
    "\n",
    "plt.plot(x_tan, y_tan)\n",
    "plt.grid(color='b', linestyle='-.', linewidth=0.25)\n",
    "plt.xlabel('x axis label')\n",
    "plt.ylabel('y axis label')\n",
    "plt.title('Tangent')\n",
    "plt.legend(['Tangent'])\n"
   ]
  },
  {
   "cell_type": "code",
   "execution_count": null,
   "metadata": {},
   "outputs": [],
   "source": [
    "import matplotlib.pyplot as plt\n",
    "import numpy as np\n",
    "\n",
    "%matplotlib inline\n",
    "\n",
    "# График котангенса, , pi / 12 <= x <= 11 * pi / 12\n",
    "\n",
    "x_cotan = np.arange(np.pi/12, 11*np.pi/12, 0.1)\n",
    "y_cotan = 1 / np.tan(x_cotan)\n",
    "\n",
    "plt.plot(x_cotan, y_cotan)\n",
    "plt.grid(color='b', linestyle='-.', linewidth=0.25)\n",
    "plt.xlabel('x axis label')\n",
    "plt.ylabel('y axis label')\n",
    "plt.title('Cotangent')\n",
    "plt.legend(['Cotangent'])\n"
   ]
  },
  {
   "cell_type": "markdown",
   "metadata": {},
   "source": [
    "#### Подграфики "
   ]
  },
  {
   "cell_type": "markdown",
   "metadata": {},
   "source": [
    "Вы можете изображать разные графики на том же рисунке, используя функцию `subplot`. /пример:"
   ]
  },
  {
   "cell_type": "code",
   "execution_count": null,
   "metadata": {},
   "outputs": [],
   "source": [
    "# Compute the x and y coordinates for points on sine and cosine curves\n",
    "x = np.arange(0, 3 * np.pi, 0.1)\n",
    "y_sin = np.sin(x)\n",
    "y_cos = np.cos(x)\n",
    "\n",
    "# Set up a subplot grid that has height 2 and width 1,\n",
    "# and set the first such subplot as active.\n",
    "    plt.subplot(2, 1, 1)\n",
    "\n",
    "# Make the first plot\n",
    "plt.plot(x, y_sin)\n",
    "plt.title('Sine')\n",
    "\n",
    "# Set the second subplot as active, and make the second plot.\n",
    "plt.subplot(2, 1, 2)\n",
    "plt.plot(x, y_cos)\n",
    "plt.title('Cosine')\n",
    "\n",
    "# Show the figure.\n",
    "plt.show()"
   ]
  },
  {
   "cell_type": "markdown",
   "metadata": {},
   "source": [
    "Вы можете больше узнать о функции `subplot` в [документации](http://matplotlib.org/api/pyplot_api.html#matplotlib.pyplot.subplot)."
   ]
  },
  {
   "cell_type": "markdown",
   "metadata": {},
   "source": [
    "#### <font color=red>Задание</font>\n",
    "Построить графики функций: $y=2\\cdot x^2$, $y=-2\\cdot x^2$, $x=2\\cdot y^2$, $x=-2\\cdot y^2$\n",
    "Требования к графикам:\n",
    "- каждый график построить в своей системе координат, разделив лист на 4 равные части 2х2.\n",
    "- значения по осям x и y должны меняться от 5 до 5.\n",
    "- подписи по осям координат \n",
    "- названия графиков\n",
    "- координатная сетка."
   ]
  },
  {
   "cell_type": "code",
   "execution_count": null,
   "metadata": {},
   "outputs": [],
   "source": [
    "# Выполнение задания.\n",
    "import matplotlib.pyplot as plt\n",
    "import numpy as np\n",
    "\n",
    "%matplotlib inline\n",
    "\n",
    "x = np.arange(-5, 5, 0.1)\n",
    "y = np.arange(-5, 5, 0.1)\n",
    "\n",
    "y_1 = 2 * x ** 2\n",
    "plt.subplot(2, 2, 1)\n",
    "plt.plot(x, y_1)\n",
    "plt.title('y = 2 * x ** 2')\n",
    "plt.xlabel('x axis label')\n",
    "plt.ylabel('y axis label')\n",
    "plt.grid(color='b', linestyle='-.', linewidth=0.25)\n",
    "\n",
    "y_2 = -2 * x ** 2\n",
    "plt.subplot(2, 2, 2)\n",
    "plt.plot(x, y_2)\n",
    "plt.title('y = -2 * x ** 2')\n",
    "plt.xlabel('x axis label')\n",
    "plt.ylabel('y axis label')\n",
    "plt.grid(color='b', linestyle='-.', linewidth=0.25)\n",
    "\n",
    "x_1 = 2 * y ** 2\n",
    "plt.subplot(2, 2, 3)\n",
    "plt.plot(y, x_1)\n",
    "plt.title('x = 2 * y ** 2')\n",
    "plt.xlabel('y axis label')\n",
    "plt.ylabel('x axis label')\n",
    "plt.grid(color='b', linestyle='-.', linewidth=0.25)\n",
    "\n",
    "x_2 = -2 * y ** 2\n",
    "plt.subplot(2, 2, 4)\n",
    "plt.plot(y, x_2)\n",
    "plt.title('x = -2 * y ** 2')\n",
    "plt.xlabel('y axis label')\n",
    "plt.ylabel('x axis label')\n",
    "plt.grid(color='b', linestyle='-.', linewidth=0.25)\n"
   ]
  },
  {
   "cell_type": "markdown",
   "metadata": {},
   "source": [
    "#### Гистограммы\n",
    "Для построения гистограмм в IPython можно использовать разные способы. Расчет гистограммы оптимизированный для массивов с большим количеством элементов выполняется при помощи функции `np.histogram` из библиотеки NumPy. Например:"
   ]
  },
  {
   "cell_type": "code",
   "execution_count": null,
   "metadata": {},
   "outputs": [],
   "source": [
    "np.histogram([1, 2, 1, 1, 2, 0], bins=[0, 1, 2, 3])"
   ]
  },
  {
   "cell_type": "markdown",
   "metadata": {},
   "source": [
    "Для вычисления относительных значений в гистограмме можно использовать параметр `density=True`"
   ]
  },
  {
   "cell_type": "code",
   "execution_count": null,
   "metadata": {},
   "outputs": [],
   "source": [
    "np.histogram([1, 2, 1, 1, 2, 0], bins=[0, 1, 2, 3],density=True)"
   ]
  },
  {
   "cell_type": "markdown",
   "metadata": {},
   "source": [
    "Для построения графика гистограммы в Matplotlib есть соответствующая, функция, которая основана на функции библиотеки NumPy: "
   ]
  },
  {
   "cell_type": "code",
   "execution_count": null,
   "metadata": {},
   "outputs": [],
   "source": [
    "plt.hist([1, 2, 1, 1, 2, 0], bins=[0, 1, 2, 3])"
   ]
  },
  {
   "cell_type": "code",
   "execution_count": null,
   "metadata": {},
   "outputs": [],
   "source": [
    "plt.hist([1, 2, 1, 1, 2, 0], bins=[0, 1, 2, 3],density=True)"
   ]
  },
  {
   "cell_type": "markdown",
   "metadata": {},
   "source": [
    "#### <font color=red>Задание</font>\n",
    "Сгенерировать 1000 случайных значений выбранного распределения (вид уточнить у преподавателя) и построить гистограмму частот и гистограмму относительных частот. \n",
    "Требования к графикам:\n",
    "- графики расположить горизонтально\n",
    "- подписи по осям координат \n",
    "- названия графиков."
   ]
  },
  {
   "cell_type": "code",
   "execution_count": null,
   "metadata": {},
   "outputs": [],
   "source": [
    "# Выполнение задания.\n",
    "import numpy as np\n",
    "import matplotlib.pyplot as plt\n",
    "\n",
    "%matplotlib inline\n",
    "\n",
    "np.random.seed(0)\n",
    "# В качестве распределения возмем нормальное стандартное распределение\n",
    "mu, sigma = 0, 1.0\n",
    "h = np.random.normal(mu, sigma, 1000)\n",
    "# Формируем bins в соответствии с правилом трех сигм\n",
    "bins = np.arange(-3 * sigma, 3 * sigma, 0.05)\n",
    "\n",
    "plt.subplot(2, 1, 1)\n",
    "plt.hist(h, bins=bins, density=False)\n",
    "plt.title('Гистограмма частот норм. стандартного распр.')\n",
    "plt.xlabel('Значения')\n",
    "plt.ylabel('Частота')\n",
    "\n",
    "plt.subplot(2, 1, 2)\n",
    "plt.hist(h, bins=bins, density=True)\n",
    "plt.title('Гистограмма отн. частот норм. стандартного распр.')\n",
    "plt.xlabel('Значения')\n",
    "plt.ylabel('Частота')\n"
   ]
  },
  {
   "cell_type": "markdown",
   "metadata": {},
   "source": [
    "#### Диаграммы рассеивания (Scatter plot)\n",
    "Диаграмма рассеивания представляет собой график, в котором точки не соединяются отрезками линий, а представлены по отдельности точками, кругами или другими фигурами на графике.\n",
    "\n",
    "Пример построения диаграммы рассеивания с использованием функции `plot` библиотеки `matplotlib`:"
   ]
  },
  {
   "cell_type": "code",
   "execution_count": null,
   "metadata": {},
   "outputs": [],
   "source": [
    "x = np.linspace(0, 10, 30)\n",
    "y = np.sin(x)\n",
    "plt.plot(x, y, 'o', color='black');"
   ]
  },
  {
   "cell_type": "markdown",
   "metadata": {},
   "source": [
    "Используя функцию `plot` можно совместить диаграмму рассеивания и линейный график:"
   ]
  },
  {
   "cell_type": "code",
   "execution_count": null,
   "metadata": {},
   "outputs": [],
   "source": [
    " plt.plot(x, y, '-ok');  # линия (-), маркер круга (o), черный цвет (k)"
   ]
  },
  {
   "cell_type": "markdown",
   "metadata": {},
   "source": [
    "Также диаграммы рассеивания могут быть построены с использованием функции `scatter` библиотеки `matplotlib`:"
   ]
  },
  {
   "cell_type": "code",
   "execution_count": null,
   "metadata": {
    "scrolled": true
   },
   "outputs": [],
   "source": [
    " plt.scatter(x, y, marker='o');"
   ]
  },
  {
   "cell_type": "markdown",
   "metadata": {},
   "source": [
    "Основное различие между функциями `plt.scatter` и `plt.plot` состоит в том, что с помощью первой можно создавать диаграммы рассеяния с индивидуально задаваемыми (или выбираемыми в соответствии с данными) свойствами каждой точки (размер, цвет заливки, цвет рамки и т. д.).\n",
    "\n",
    "Продемонстрируем это, создав случайную диаграмму рассеяния с точками различных цветов и размеров. Чтобы лучше видеть перекрывающиеся результаты, воспользуемся ключевым словом `alpha` для настройки уровня прозрачности:"
   ]
  },
  {
   "cell_type": "code",
   "execution_count": null,
   "metadata": {},
   "outputs": [],
   "source": [
    "rng = np.random.RandomState(0)\n",
    "x = rng.randn(100)\n",
    "y = rng.randn(100)\n",
    "colors = rng.rand(100)\n",
    "sizes = 1000 * rng.rand(100)\n",
    "plt.scatter(x, y, c=colors, s=sizes, alpha=0.3)\n",
    "plt.colorbar();  # Отображаем цветовую шкалу"
   ]
  },
  {
   "cell_type": "markdown",
   "metadata": {},
   "source": [
    "#### <font color=red>Задание</font>\n",
    "Повторить крайний пример, изменив вид распределений, используемый для генерации массивов x и y (вид распределений уточнить у преподавателя)."
   ]
  },
  {
   "cell_type": "code",
   "execution_count": null,
   "metadata": {},
   "outputs": [],
   "source": [
    "import numpy as np\n",
    "import matplotlib.pyplot as plt\n",
    "\n",
    "%matplotlib inline\n",
    "\n",
    "# Возьмем распределение Лапласа\n",
    "\n",
    "rng = np.random.RandomState(0)\n",
    "x = np.random.laplace(size=100)\n",
    "y = np.random.laplace(size=100)\n",
    "colors = rng.rand(100)\n",
    "sizes = 1000 * rng.rand(100)\n",
    "plt.scatter(x, y, c=colors, s=sizes, alpha=0.3)\n",
    "plt.colorbar()  # Отображаем цветовую шкалу\n"
   ]
  },
  {
   "cell_type": "markdown",
   "metadata": {},
   "source": [
    "### SciPy"
   ]
  },
  {
   "cell_type": "markdown",
   "metadata": {},
   "source": [
    "SciPy основывается на массивах и операциях над массивами библиотеки NumPy и предоставляет большое количество функций, которые работают с массивами Numpy и полезны для различных научных и инженерных приложений.\n",
    "\n",
    "Лучший способ познакомиться с SciPy - изучить [документацию](http://docs.scipy.org/doc/scipy/reference/index.html). Мы выделим некоторые части SciPy, которые могут оказаться полезными для изучения материалов курса."
   ]
  },
  {
   "cell_type": "markdown",
   "metadata": {},
   "source": [
    "#### Работа с изображениями"
   ]
  },
  {
   "cell_type": "markdown",
   "metadata": {},
   "source": [
    "SciPy предоставляет некоторые базовые функции для работы с изображениями. Например, функции для чтения изображений с диска в массивы numpy, для сохранения массивов numpy на диск как изображений и для изменения изображений. Вот простой пример, демонстрирующий эти функции:"
   ]
  },
  {
   "cell_type": "code",
   "execution_count": null,
   "metadata": {},
   "outputs": [],
   "source": [
    "#from imageio import imread, imsave, imresize\n",
    "import numpy as np\n",
    "from imageio import imread, imsave\n",
    "from PIL import Image\n",
    "\n",
    "# Читаем изображение из файла JPEG в массив numpy.\n",
    "#im = Image.open('cat.jpg', mode='r')\n",
    "img = imread('cat.jpg')\n",
    "\n",
    "print(img.dtype, img.shape)  # \"uint8 (400, 248, 3)\"\n",
    "\n",
    "# Мы можем изменить оттенок изображения, масштабируя каждый из цветовых каналов\n",
    "# с помощью константы. Изображение имеет форму (400, 248, 3);\n",
    "# мы умножаем его на массив [1, 0.95, 0.9] формы (3);\n",
    "# Трансляция массивов numpy привеодит к тому, что красный канал не изменит значение,\n",
    "# а зеленый и синий каналы будут умножены на 0,95 и 0,9 соответственно.\n",
    "img_tinted = np.uint8(img * [1, 0.95, 0.9])\n",
    "\n",
    "img_tinted = Image.fromarray(obj=img_tinted)\n",
    "\n",
    "# Изменим размер изображения на 300x300.\n",
    "#img_tinted = imresize(img_tinted, (300, 300))\n",
    "img_tinted = img_tinted.resize((300, 300))\n",
    "\n",
    "# Сохраним на диск обработанное изображение.\n",
    "imsave('cat_tinted.jpg', img_tinted)"
   ]
  },
  {
   "cell_type": "markdown",
   "metadata": {},
   "source": [
    "Вы можете использовать функцию `imshow` из `matplotlib` для отображения изображений. Вот пример:"
   ]
  },
  {
   "cell_type": "code",
   "execution_count": null,
   "metadata": {},
   "outputs": [],
   "source": [
    "img = imread('cat.jpg')\n",
    "img_tinted = img * [1, 0, 0.9]\n",
    "\n",
    "fig=plt.figure(figsize=(16, 8)) # Установим размер фигуры для отрисовки графиков.\n",
    "\n",
    "# Отобразим исходное изображение\n",
    "plt.subplot(1, 2, 1)\n",
    "plt.imshow(img)\n",
    "\n",
    "# Отобразим измененное изображение\n",
    "plt.subplot(1, 2, 2)\n",
    "\n",
    "# Небольшая проблема с imshow заключается в том, что функция может дать странные результаты\n",
    "# если данные не являются uint8. Чтобы избежать этого, нужно привести изображение к типу \n",
    "# uint8 перед его отображением.\n",
    "plt.imshow(np.uint8(img_tinted))\n",
    "plt.show()"
   ]
  },
  {
   "cell_type": "markdown",
   "metadata": {},
   "source": [
    "#### <font color=red>Задание</font>\n",
    "1. Выбрать произвольное цветное изображение и загрузить в среду IPython.\n",
    "2. Построить гистограммы яркостей для всех трех каналов.\n",
    "3. Используя матричные операции обнулить яркости синего и зеленого каналов в изображении и отобразить его. \n",
    "4. Используя матричные операции обнулить яркости красного канала в изображении и отобразить его."
   ]
  },
  {
   "cell_type": "code",
   "execution_count": null,
   "metadata": {},
   "outputs": [],
   "source": [
    "import numpy as np\n",
    "import matplotlib.pyplot as plt\n",
    "\n",
    "%matplotlib inline\n",
    "\n",
    "img = imread('Lenna.png')\n",
    "\n",
    "r = img[..., 0]\n",
    "g = img[..., 1]\n",
    "b = img[..., 2]\n",
    "\n",
    "plt.subplot(311)\n",
    "plt.hist(r, bins=np.arange(256))\n",
    "plt.title('Red')\n",
    "plt.xlabel('Значения')\n",
    "plt.ylabel('Частота')\n",
    "\n",
    "plt.subplot(312)\n",
    "plt.hist(g, bins=np.arange(256))\n",
    "plt.title('Green')\n",
    "plt.xlabel('Значения')\n",
    "plt.ylabel('Частота')\n",
    "\n",
    "plt.subplot(313)\n",
    "plt.hist(b, bins=np.arange(256))\n",
    "plt.title('Blue')\n",
    "plt.xlabel('Значения')\n",
    "plt.ylabel('Частота')\n"
   ]
  },
  {
   "cell_type": "code",
   "execution_count": null,
   "metadata": {},
   "outputs": [],
   "source": [
    "import numpy as np\n",
    "import matplotlib.pyplot as plt\n",
    "\n",
    "%matplotlib inline\n",
    "\n",
    "img1 = imread('Lenna.png')\n",
    "img2 = imread('Lenna.png')\n",
    "\n",
    "img1[..., 0] *= 0 # Red\n",
    "img2[..., 1] *= 0 # Green\n",
    "img2[..., 2] *= 0 # Blue\n",
    "\n",
    "fig = plt.figure(figsize=(16, 8))\n",
    "\n",
    "plt.subplot(1, 2, 1)\n",
    "plt.imshow(np.uint8(img1))\n",
    "\n",
    "plt.subplot(1, 2, 2)\n",
    "plt.imshow(np.uint8(img2))\n"
   ]
  }
 ],
 "metadata": {
  "kernelspec": {
   "display_name": "Python 3",
   "language": "python",
   "name": "python3"
  },
  "language_info": {
   "codemirror_mode": {
    "name": "ipython",
    "version": 3
   },
   "file_extension": ".py",
   "mimetype": "text/x-python",
   "name": "python",
   "nbconvert_exporter": "python",
   "pygments_lexer": "ipython3",
   "version": "3.7.3"
  }
 },
 "nbformat": 4,
 "nbformat_minor": 2
}
